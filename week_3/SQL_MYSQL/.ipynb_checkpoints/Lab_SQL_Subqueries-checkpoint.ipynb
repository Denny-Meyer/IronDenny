{
 "cells": [
  {
   "cell_type": "markdown",
   "id": "03fdf8ca",
   "metadata": {},
   "source": [
    "\n",
    "1. How many copies of the film _Hunchback Impossible_ exist in the inventory system?\n",
    "2. List all films whose length is longer than the average of all the films.\n",
    "3. Use subqueries to display all actors who appear in the film _Alone Trip_.\n",
    "4. Sales have been lagging among young families, and you wish to target all family movies for a promotion. Identify all movies categorized as family films.\n",
    "5. Get name and email from customers from Canada using subqueries. Do the same with joins. Note that to create a join, you will have to identify the correct tables with their primary keys and foreign keys, that will help you get the relevant information.\n",
    "6. Which are films starred by the most prolific actor? Most prolific actor is defined as the actor that has acted in the most number of films. First you will have to find the most prolific actor and then use that actor_id to find the different films that he/she starred.\n",
    "7. Films rented by most profitable customer. You can use the customer table and payment table to find the most profitable customer ie the customer that has made the largest sum of payments\n",
    "8. Customers who spent more than the average payments."
   ]
  },
  {
   "cell_type": "markdown",
   "id": "1a244023",
   "metadata": {},
   "source": [
    "<img src=\"Labs/img/sakila_db_image.png\" alt=\"Drawing\" style=\"width: 100px;\"/>"
   ]
  },
  {
   "cell_type": "code",
   "execution_count": 1,
   "id": "25b71c19",
   "metadata": {},
   "outputs": [],
   "source": [
    "#setup\n",
    "import pandas as pd\n",
    "import getpass\n",
    "import sqlalchemy as sa"
   ]
  },
  {
   "cell_type": "markdown",
   "id": "53261fec",
   "metadata": {},
   "source": [
    "#### connect"
   ]
  },
  {
   "cell_type": "code",
   "execution_count": 2,
   "id": "6eb8cacb",
   "metadata": {},
   "outputs": [
    {
     "name": "stdout",
     "output_type": "stream",
     "text": [
      "Your password:········\n"
     ]
    }
   ],
   "source": [
    "driver = 'mysql+pymysql'\n",
    "user = 'root'\n",
    "password = getpass.getpass(prompt='Your password:'\"\")\n",
    "ip = 'localhost' #'127.0.0.1'  "
   ]
  },
  {
   "cell_type": "code",
   "execution_count": 5,
   "id": "2464c570",
   "metadata": {},
   "outputs": [],
   "source": [
    "connection_string = f'{driver}://{user}:{password}@{ip}'\n",
    "db_con = sa.create_engine(connection_string)"
   ]
  },
  {
   "cell_type": "markdown",
   "id": "a1e0738a",
   "metadata": {},
   "source": [
    "### 1. How many copies of the film _Hunchback Impossible_ exist in the inventory system?"
   ]
  },
  {
   "cell_type": "code",
   "execution_count": 324,
   "id": "9f030747",
   "metadata": {},
   "outputs": [
    {
     "data": {
      "text/plain": [
       "<sqlalchemy.engine.cursor.LegacyCursorResult at 0x7fd0658f6b80>"
      ]
     },
     "execution_count": 324,
     "metadata": {},
     "output_type": "execute_result"
    }
   ],
   "source": [
    "db_con.execute(\"use sakila;\")"
   ]
  },
  {
   "cell_type": "code",
   "execution_count": 325,
   "id": "ad5f31ef",
   "metadata": {},
   "outputs": [
    {
     "data": {
      "text/html": [
       "<div>\n",
       "<style scoped>\n",
       "    .dataframe tbody tr th:only-of-type {\n",
       "        vertical-align: middle;\n",
       "    }\n",
       "\n",
       "    .dataframe tbody tr th {\n",
       "        vertical-align: top;\n",
       "    }\n",
       "\n",
       "    .dataframe thead th {\n",
       "        text-align: right;\n",
       "    }\n",
       "</style>\n",
       "<table border=\"1\" class=\"dataframe\">\n",
       "  <thead>\n",
       "    <tr style=\"text-align: right;\">\n",
       "      <th></th>\n",
       "      <th>film_id</th>\n",
       "      <th>title</th>\n",
       "      <th>description</th>\n",
       "      <th>release_year</th>\n",
       "      <th>language_id</th>\n",
       "      <th>original_language_id</th>\n",
       "      <th>rental_duration</th>\n",
       "      <th>rental_rate</th>\n",
       "      <th>length</th>\n",
       "      <th>replacement_cost</th>\n",
       "      <th>rating</th>\n",
       "      <th>special_features</th>\n",
       "      <th>last_update</th>\n",
       "    </tr>\n",
       "  </thead>\n",
       "  <tbody>\n",
       "    <tr>\n",
       "      <th>0</th>\n",
       "      <td>1</td>\n",
       "      <td>ACADEMY DINOSAUR</td>\n",
       "      <td>A Epic Drama of a Feminist And a Mad Scientist...</td>\n",
       "      <td>2006</td>\n",
       "      <td>1</td>\n",
       "      <td>None</td>\n",
       "      <td>6</td>\n",
       "      <td>0.99</td>\n",
       "      <td>86</td>\n",
       "      <td>20.99</td>\n",
       "      <td>PG</td>\n",
       "      <td>Deleted Scenes,Behind the Scenes</td>\n",
       "      <td>2006-02-15 05:03:42</td>\n",
       "    </tr>\n",
       "  </tbody>\n",
       "</table>\n",
       "</div>"
      ],
      "text/plain": [
       "   film_id             title  \\\n",
       "0        1  ACADEMY DINOSAUR   \n",
       "\n",
       "                                         description  release_year  \\\n",
       "0  A Epic Drama of a Feminist And a Mad Scientist...          2006   \n",
       "\n",
       "   language_id original_language_id  rental_duration  rental_rate  length  \\\n",
       "0            1                 None                6         0.99      86   \n",
       "\n",
       "   replacement_cost rating                  special_features  \\\n",
       "0             20.99     PG  Deleted Scenes,Behind the Scenes   \n",
       "\n",
       "          last_update  \n",
       "0 2006-02-15 05:03:42  "
      ]
     },
     "execution_count": 325,
     "metadata": {},
     "output_type": "execute_result"
    }
   ],
   "source": [
    "films =\"SELECT * FROM sakila.film\"\n",
    "film = pd.read_sql_query(films, db_con)\n",
    "film.head(1)"
   ]
  },
  {
   "cell_type": "code",
   "execution_count": 326,
   "id": "d10a5232",
   "metadata": {},
   "outputs": [],
   "source": [
    "res_str = \"select * from sakila.inventory\"\n",
    "res = pd.read_sql(res_str, db_con)"
   ]
  },
  {
   "cell_type": "code",
   "execution_count": 327,
   "id": "a4c5542d",
   "metadata": {},
   "outputs": [
    {
     "data": {
      "text/html": [
       "<div>\n",
       "<style scoped>\n",
       "    .dataframe tbody tr th:only-of-type {\n",
       "        vertical-align: middle;\n",
       "    }\n",
       "\n",
       "    .dataframe tbody tr th {\n",
       "        vertical-align: top;\n",
       "    }\n",
       "\n",
       "    .dataframe thead th {\n",
       "        text-align: right;\n",
       "    }\n",
       "</style>\n",
       "<table border=\"1\" class=\"dataframe\">\n",
       "  <thead>\n",
       "    <tr style=\"text-align: right;\">\n",
       "      <th></th>\n",
       "      <th>inventory_id</th>\n",
       "      <th>film_id</th>\n",
       "      <th>store_id</th>\n",
       "      <th>last_update</th>\n",
       "    </tr>\n",
       "  </thead>\n",
       "  <tbody>\n",
       "    <tr>\n",
       "      <th>0</th>\n",
       "      <td>1</td>\n",
       "      <td>1</td>\n",
       "      <td>1</td>\n",
       "      <td>2006-02-15 05:09:17</td>\n",
       "    </tr>\n",
       "    <tr>\n",
       "      <th>1</th>\n",
       "      <td>2</td>\n",
       "      <td>1</td>\n",
       "      <td>1</td>\n",
       "      <td>2006-02-15 05:09:17</td>\n",
       "    </tr>\n",
       "    <tr>\n",
       "      <th>2</th>\n",
       "      <td>3</td>\n",
       "      <td>1</td>\n",
       "      <td>1</td>\n",
       "      <td>2006-02-15 05:09:17</td>\n",
       "    </tr>\n",
       "    <tr>\n",
       "      <th>3</th>\n",
       "      <td>4</td>\n",
       "      <td>1</td>\n",
       "      <td>1</td>\n",
       "      <td>2006-02-15 05:09:17</td>\n",
       "    </tr>\n",
       "    <tr>\n",
       "      <th>4</th>\n",
       "      <td>5</td>\n",
       "      <td>1</td>\n",
       "      <td>2</td>\n",
       "      <td>2006-02-15 05:09:17</td>\n",
       "    </tr>\n",
       "  </tbody>\n",
       "</table>\n",
       "</div>"
      ],
      "text/plain": [
       "   inventory_id  film_id  store_id         last_update\n",
       "0             1        1         1 2006-02-15 05:09:17\n",
       "1             2        1         1 2006-02-15 05:09:17\n",
       "2             3        1         1 2006-02-15 05:09:17\n",
       "3             4        1         1 2006-02-15 05:09:17\n",
       "4             5        1         2 2006-02-15 05:09:17"
      ]
     },
     "execution_count": 327,
     "metadata": {},
     "output_type": "execute_result"
    }
   ],
   "source": [
    "res.head()"
   ]
  },
  {
   "cell_type": "code",
   "execution_count": 328,
   "id": "a0a89f10",
   "metadata": {},
   "outputs": [],
   "source": [
    "# merge film and inventory tables on key 'film_id'\n",
    "inv_film = film.merge(res, left_on=\"film_id\", right_on=\"film_id\")"
   ]
  },
  {
   "cell_type": "code",
   "execution_count": 329,
   "id": "1f33896e",
   "metadata": {},
   "outputs": [],
   "source": [
    "# find the right movie\n",
    "hunch_movie = inv_film[inv_film[\"title\"].str.startswith(\"HUNCH\")]"
   ]
  },
  {
   "cell_type": "markdown",
   "id": "d0f4c8ba",
   "metadata": {},
   "source": [
    "### ***answer:***"
   ]
  },
  {
   "cell_type": "code",
   "execution_count": 330,
   "id": "3a8ffa8f",
   "metadata": {},
   "outputs": [
    {
     "name": "stdout",
     "output_type": "stream",
     "text": [
      "Movie: ['HUNCHBACK IMPOSSIBLE'] exist in inventory for 6 times\n"
     ]
    },
    {
     "data": {
      "text/html": [
       "<div>\n",
       "<style scoped>\n",
       "    .dataframe tbody tr th:only-of-type {\n",
       "        vertical-align: middle;\n",
       "    }\n",
       "\n",
       "    .dataframe tbody tr th {\n",
       "        vertical-align: top;\n",
       "    }\n",
       "\n",
       "    .dataframe thead th {\n",
       "        text-align: right;\n",
       "    }\n",
       "</style>\n",
       "<table border=\"1\" class=\"dataframe\">\n",
       "  <thead>\n",
       "    <tr style=\"text-align: right;\">\n",
       "      <th></th>\n",
       "      <th>film_id</th>\n",
       "      <th>title</th>\n",
       "      <th>description</th>\n",
       "      <th>release_year</th>\n",
       "      <th>language_id</th>\n",
       "      <th>original_language_id</th>\n",
       "      <th>rental_duration</th>\n",
       "      <th>rental_rate</th>\n",
       "      <th>length</th>\n",
       "      <th>replacement_cost</th>\n",
       "      <th>rating</th>\n",
       "      <th>special_features</th>\n",
       "      <th>last_update_x</th>\n",
       "      <th>inventory_id</th>\n",
       "      <th>store_id</th>\n",
       "      <th>last_update_y</th>\n",
       "    </tr>\n",
       "  </thead>\n",
       "  <tbody>\n",
       "    <tr>\n",
       "      <th>2016</th>\n",
       "      <td>439</td>\n",
       "      <td>HUNCHBACK IMPOSSIBLE</td>\n",
       "      <td>A Touching Yarn of a Frisbee And a Dentist who...</td>\n",
       "      <td>2006</td>\n",
       "      <td>1</td>\n",
       "      <td>None</td>\n",
       "      <td>4</td>\n",
       "      <td>4.99</td>\n",
       "      <td>151</td>\n",
       "      <td>28.99</td>\n",
       "      <td>PG-13</td>\n",
       "      <td>Trailers,Deleted Scenes</td>\n",
       "      <td>2006-02-15 05:03:42</td>\n",
       "      <td>2017</td>\n",
       "      <td>1</td>\n",
       "      <td>2006-02-15 05:09:17</td>\n",
       "    </tr>\n",
       "    <tr>\n",
       "      <th>2017</th>\n",
       "      <td>439</td>\n",
       "      <td>HUNCHBACK IMPOSSIBLE</td>\n",
       "      <td>A Touching Yarn of a Frisbee And a Dentist who...</td>\n",
       "      <td>2006</td>\n",
       "      <td>1</td>\n",
       "      <td>None</td>\n",
       "      <td>4</td>\n",
       "      <td>4.99</td>\n",
       "      <td>151</td>\n",
       "      <td>28.99</td>\n",
       "      <td>PG-13</td>\n",
       "      <td>Trailers,Deleted Scenes</td>\n",
       "      <td>2006-02-15 05:03:42</td>\n",
       "      <td>2018</td>\n",
       "      <td>1</td>\n",
       "      <td>2006-02-15 05:09:17</td>\n",
       "    </tr>\n",
       "    <tr>\n",
       "      <th>2018</th>\n",
       "      <td>439</td>\n",
       "      <td>HUNCHBACK IMPOSSIBLE</td>\n",
       "      <td>A Touching Yarn of a Frisbee And a Dentist who...</td>\n",
       "      <td>2006</td>\n",
       "      <td>1</td>\n",
       "      <td>None</td>\n",
       "      <td>4</td>\n",
       "      <td>4.99</td>\n",
       "      <td>151</td>\n",
       "      <td>28.99</td>\n",
       "      <td>PG-13</td>\n",
       "      <td>Trailers,Deleted Scenes</td>\n",
       "      <td>2006-02-15 05:03:42</td>\n",
       "      <td>2019</td>\n",
       "      <td>1</td>\n",
       "      <td>2006-02-15 05:09:17</td>\n",
       "    </tr>\n",
       "    <tr>\n",
       "      <th>2019</th>\n",
       "      <td>439</td>\n",
       "      <td>HUNCHBACK IMPOSSIBLE</td>\n",
       "      <td>A Touching Yarn of a Frisbee And a Dentist who...</td>\n",
       "      <td>2006</td>\n",
       "      <td>1</td>\n",
       "      <td>None</td>\n",
       "      <td>4</td>\n",
       "      <td>4.99</td>\n",
       "      <td>151</td>\n",
       "      <td>28.99</td>\n",
       "      <td>PG-13</td>\n",
       "      <td>Trailers,Deleted Scenes</td>\n",
       "      <td>2006-02-15 05:03:42</td>\n",
       "      <td>2020</td>\n",
       "      <td>1</td>\n",
       "      <td>2006-02-15 05:09:17</td>\n",
       "    </tr>\n",
       "    <tr>\n",
       "      <th>2020</th>\n",
       "      <td>439</td>\n",
       "      <td>HUNCHBACK IMPOSSIBLE</td>\n",
       "      <td>A Touching Yarn of a Frisbee And a Dentist who...</td>\n",
       "      <td>2006</td>\n",
       "      <td>1</td>\n",
       "      <td>None</td>\n",
       "      <td>4</td>\n",
       "      <td>4.99</td>\n",
       "      <td>151</td>\n",
       "      <td>28.99</td>\n",
       "      <td>PG-13</td>\n",
       "      <td>Trailers,Deleted Scenes</td>\n",
       "      <td>2006-02-15 05:03:42</td>\n",
       "      <td>2021</td>\n",
       "      <td>2</td>\n",
       "      <td>2006-02-15 05:09:17</td>\n",
       "    </tr>\n",
       "    <tr>\n",
       "      <th>2021</th>\n",
       "      <td>439</td>\n",
       "      <td>HUNCHBACK IMPOSSIBLE</td>\n",
       "      <td>A Touching Yarn of a Frisbee And a Dentist who...</td>\n",
       "      <td>2006</td>\n",
       "      <td>1</td>\n",
       "      <td>None</td>\n",
       "      <td>4</td>\n",
       "      <td>4.99</td>\n",
       "      <td>151</td>\n",
       "      <td>28.99</td>\n",
       "      <td>PG-13</td>\n",
       "      <td>Trailers,Deleted Scenes</td>\n",
       "      <td>2006-02-15 05:03:42</td>\n",
       "      <td>2022</td>\n",
       "      <td>2</td>\n",
       "      <td>2006-02-15 05:09:17</td>\n",
       "    </tr>\n",
       "  </tbody>\n",
       "</table>\n",
       "</div>"
      ],
      "text/plain": [
       "      film_id                 title  \\\n",
       "2016      439  HUNCHBACK IMPOSSIBLE   \n",
       "2017      439  HUNCHBACK IMPOSSIBLE   \n",
       "2018      439  HUNCHBACK IMPOSSIBLE   \n",
       "2019      439  HUNCHBACK IMPOSSIBLE   \n",
       "2020      439  HUNCHBACK IMPOSSIBLE   \n",
       "2021      439  HUNCHBACK IMPOSSIBLE   \n",
       "\n",
       "                                            description  release_year  \\\n",
       "2016  A Touching Yarn of a Frisbee And a Dentist who...          2006   \n",
       "2017  A Touching Yarn of a Frisbee And a Dentist who...          2006   \n",
       "2018  A Touching Yarn of a Frisbee And a Dentist who...          2006   \n",
       "2019  A Touching Yarn of a Frisbee And a Dentist who...          2006   \n",
       "2020  A Touching Yarn of a Frisbee And a Dentist who...          2006   \n",
       "2021  A Touching Yarn of a Frisbee And a Dentist who...          2006   \n",
       "\n",
       "      language_id original_language_id  rental_duration  rental_rate  length  \\\n",
       "2016            1                 None                4         4.99     151   \n",
       "2017            1                 None                4         4.99     151   \n",
       "2018            1                 None                4         4.99     151   \n",
       "2019            1                 None                4         4.99     151   \n",
       "2020            1                 None                4         4.99     151   \n",
       "2021            1                 None                4         4.99     151   \n",
       "\n",
       "      replacement_cost rating         special_features       last_update_x  \\\n",
       "2016             28.99  PG-13  Trailers,Deleted Scenes 2006-02-15 05:03:42   \n",
       "2017             28.99  PG-13  Trailers,Deleted Scenes 2006-02-15 05:03:42   \n",
       "2018             28.99  PG-13  Trailers,Deleted Scenes 2006-02-15 05:03:42   \n",
       "2019             28.99  PG-13  Trailers,Deleted Scenes 2006-02-15 05:03:42   \n",
       "2020             28.99  PG-13  Trailers,Deleted Scenes 2006-02-15 05:03:42   \n",
       "2021             28.99  PG-13  Trailers,Deleted Scenes 2006-02-15 05:03:42   \n",
       "\n",
       "      inventory_id  store_id       last_update_y  \n",
       "2016          2017         1 2006-02-15 05:09:17  \n",
       "2017          2018         1 2006-02-15 05:09:17  \n",
       "2018          2019         1 2006-02-15 05:09:17  \n",
       "2019          2020         1 2006-02-15 05:09:17  \n",
       "2020          2021         2 2006-02-15 05:09:17  \n",
       "2021          2022         2 2006-02-15 05:09:17  "
      ]
     },
     "execution_count": 330,
     "metadata": {},
     "output_type": "execute_result"
    }
   ],
   "source": [
    "print('Movie:',hunch_movie.title.unique(),'exist in inventory for',hunch_movie.film_id.count(),'times')\n",
    "hunch_movie"
   ]
  },
  {
   "cell_type": "markdown",
   "id": "5b7ea3f2",
   "metadata": {},
   "source": [
    "### 2. List all films whose length is longer than the average of all the films."
   ]
  },
  {
   "cell_type": "code",
   "execution_count": 331,
   "id": "27518343",
   "metadata": {},
   "outputs": [],
   "source": [
    "# need all film and lenght\n",
    "# calculate average of all movies\n",
    "# use greater than check to find the right movies\n",
    "\n",
    "movie_query = \"select title, length from film\"\n",
    "res = pd.read_sql(movie_query, db_con)"
   ]
  },
  {
   "cell_type": "code",
   "execution_count": 332,
   "id": "25ac90a3",
   "metadata": {},
   "outputs": [],
   "source": [
    "data = res[res['length'] > res['length'].mean()]"
   ]
  },
  {
   "cell_type": "code",
   "execution_count": 333,
   "id": "e2004579",
   "metadata": {},
   "outputs": [
    {
     "data": {
      "text/html": [
       "<div>\n",
       "<style scoped>\n",
       "    .dataframe tbody tr th:only-of-type {\n",
       "        vertical-align: middle;\n",
       "    }\n",
       "\n",
       "    .dataframe tbody tr th {\n",
       "        vertical-align: top;\n",
       "    }\n",
       "\n",
       "    .dataframe thead th {\n",
       "        text-align: right;\n",
       "    }\n",
       "</style>\n",
       "<table border=\"1\" class=\"dataframe\">\n",
       "  <thead>\n",
       "    <tr style=\"text-align: right;\">\n",
       "      <th></th>\n",
       "      <th>length</th>\n",
       "    </tr>\n",
       "  </thead>\n",
       "  <tbody>\n",
       "    <tr>\n",
       "      <th>count</th>\n",
       "      <td>1000.000000</td>\n",
       "    </tr>\n",
       "    <tr>\n",
       "      <th>mean</th>\n",
       "      <td>115.272000</td>\n",
       "    </tr>\n",
       "    <tr>\n",
       "      <th>std</th>\n",
       "      <td>40.426332</td>\n",
       "    </tr>\n",
       "    <tr>\n",
       "      <th>min</th>\n",
       "      <td>46.000000</td>\n",
       "    </tr>\n",
       "    <tr>\n",
       "      <th>25%</th>\n",
       "      <td>80.000000</td>\n",
       "    </tr>\n",
       "    <tr>\n",
       "      <th>50%</th>\n",
       "      <td>114.000000</td>\n",
       "    </tr>\n",
       "    <tr>\n",
       "      <th>75%</th>\n",
       "      <td>149.250000</td>\n",
       "    </tr>\n",
       "    <tr>\n",
       "      <th>max</th>\n",
       "      <td>185.000000</td>\n",
       "    </tr>\n",
       "  </tbody>\n",
       "</table>\n",
       "</div>"
      ],
      "text/plain": [
       "            length\n",
       "count  1000.000000\n",
       "mean    115.272000\n",
       "std      40.426332\n",
       "min      46.000000\n",
       "25%      80.000000\n",
       "50%     114.000000\n",
       "75%     149.250000\n",
       "max     185.000000"
      ]
     },
     "execution_count": 333,
     "metadata": {},
     "output_type": "execute_result"
    }
   ],
   "source": [
    "# check if result makes sense\n",
    "res.describe() # mean by 115.27"
   ]
  },
  {
   "cell_type": "code",
   "execution_count": 334,
   "id": "4070253c",
   "metadata": {},
   "outputs": [
    {
     "data": {
      "text/html": [
       "<div>\n",
       "<style scoped>\n",
       "    .dataframe tbody tr th:only-of-type {\n",
       "        vertical-align: middle;\n",
       "    }\n",
       "\n",
       "    .dataframe tbody tr th {\n",
       "        vertical-align: top;\n",
       "    }\n",
       "\n",
       "    .dataframe thead th {\n",
       "        text-align: right;\n",
       "    }\n",
       "</style>\n",
       "<table border=\"1\" class=\"dataframe\">\n",
       "  <thead>\n",
       "    <tr style=\"text-align: right;\">\n",
       "      <th></th>\n",
       "      <th>title</th>\n",
       "      <th>length</th>\n",
       "    </tr>\n",
       "  </thead>\n",
       "  <tbody>\n",
       "    <tr>\n",
       "      <th>181</th>\n",
       "      <td>CONTROL ANTHEM</td>\n",
       "      <td>185</td>\n",
       "    </tr>\n",
       "    <tr>\n",
       "      <th>140</th>\n",
       "      <td>CHICAGO NORTH</td>\n",
       "      <td>185</td>\n",
       "    </tr>\n",
       "    <tr>\n",
       "      <th>608</th>\n",
       "      <td>MUSCLE BRIGHT</td>\n",
       "      <td>185</td>\n",
       "    </tr>\n",
       "    <tr>\n",
       "      <th>871</th>\n",
       "      <td>SWEET BROTHERHOOD</td>\n",
       "      <td>185</td>\n",
       "    </tr>\n",
       "    <tr>\n",
       "      <th>816</th>\n",
       "      <td>SOLDIERS EVOLUTION</td>\n",
       "      <td>185</td>\n",
       "    </tr>\n",
       "    <tr>\n",
       "      <th>...</th>\n",
       "      <td>...</td>\n",
       "      <td>...</td>\n",
       "    </tr>\n",
       "    <tr>\n",
       "      <th>3</th>\n",
       "      <td>AFFAIR PREJUDICE</td>\n",
       "      <td>117</td>\n",
       "    </tr>\n",
       "    <tr>\n",
       "      <th>986</th>\n",
       "      <td>WORDS HUNTER</td>\n",
       "      <td>116</td>\n",
       "    </tr>\n",
       "    <tr>\n",
       "      <th>542</th>\n",
       "      <td>MADIGAN DORADO</td>\n",
       "      <td>116</td>\n",
       "    </tr>\n",
       "    <tr>\n",
       "      <th>462</th>\n",
       "      <td>INSTINCT AIRPORT</td>\n",
       "      <td>116</td>\n",
       "    </tr>\n",
       "    <tr>\n",
       "      <th>258</th>\n",
       "      <td>DUCK RACER</td>\n",
       "      <td>116</td>\n",
       "    </tr>\n",
       "  </tbody>\n",
       "</table>\n",
       "<p>489 rows × 2 columns</p>\n",
       "</div>"
      ],
      "text/plain": [
       "                  title  length\n",
       "181      CONTROL ANTHEM     185\n",
       "140       CHICAGO NORTH     185\n",
       "608       MUSCLE BRIGHT     185\n",
       "871   SWEET BROTHERHOOD     185\n",
       "816  SOLDIERS EVOLUTION     185\n",
       "..                  ...     ...\n",
       "3      AFFAIR PREJUDICE     117\n",
       "986        WORDS HUNTER     116\n",
       "542      MADIGAN DORADO     116\n",
       "462    INSTINCT AIRPORT     116\n",
       "258          DUCK RACER     116\n",
       "\n",
       "[489 rows x 2 columns]"
      ]
     },
     "execution_count": 334,
     "metadata": {},
     "output_type": "execute_result"
    }
   ],
   "source": [
    "data.sort_values(['length'], ascending=False)"
   ]
  },
  {
   "cell_type": "markdown",
   "id": "e69dcb1e",
   "metadata": {},
   "source": [
    "### 3. Use subqueries to display all actors who appear in the film _Alone Trip_."
   ]
  },
  {
   "cell_type": "code",
   "execution_count": 335,
   "id": "bfb29073",
   "metadata": {},
   "outputs": [],
   "source": [
    "# query film Alone trip\n",
    "# query actors \n",
    "# 'film actor' holds key for actor_id and film_id\n",
    "\n",
    "# 1 get film_id"
   ]
  },
  {
   "cell_type": "code",
   "execution_count": 336,
   "id": "7f20d54c",
   "metadata": {},
   "outputs": [],
   "source": [
    "res = \"\"\"select concat(first_name,' ',last_name) as Actor_name from sakila.actor \n",
    "where \n",
    "    actor_id in (\n",
    "        select actor_id from sakila.film_actor \n",
    "            inner join \n",
    "                sakila.film \n",
    "            using (film_id) \n",
    "                where film_id = \n",
    "                    (select film_id from sakila.film\n",
    "                        where title = 'Alone trip'\n",
    "                    )\n",
    "                );\"\"\""
   ]
  },
  {
   "cell_type": "code",
   "execution_count": 337,
   "id": "9919bc5b",
   "metadata": {},
   "outputs": [
    {
     "data": {
      "text/html": [
       "<div>\n",
       "<style scoped>\n",
       "    .dataframe tbody tr th:only-of-type {\n",
       "        vertical-align: middle;\n",
       "    }\n",
       "\n",
       "    .dataframe tbody tr th {\n",
       "        vertical-align: top;\n",
       "    }\n",
       "\n",
       "    .dataframe thead th {\n",
       "        text-align: right;\n",
       "    }\n",
       "</style>\n",
       "<table border=\"1\" class=\"dataframe\">\n",
       "  <thead>\n",
       "    <tr style=\"text-align: right;\">\n",
       "      <th></th>\n",
       "      <th>Actor_name</th>\n",
       "    </tr>\n",
       "  </thead>\n",
       "  <tbody>\n",
       "    <tr>\n",
       "      <th>0</th>\n",
       "      <td>ED CHASE</td>\n",
       "    </tr>\n",
       "    <tr>\n",
       "      <th>1</th>\n",
       "      <td>KARL BERRY</td>\n",
       "    </tr>\n",
       "    <tr>\n",
       "      <th>2</th>\n",
       "      <td>UMA WOOD</td>\n",
       "    </tr>\n",
       "    <tr>\n",
       "      <th>3</th>\n",
       "      <td>WOODY JOLIE</td>\n",
       "    </tr>\n",
       "    <tr>\n",
       "      <th>4</th>\n",
       "      <td>SPENCER DEPP</td>\n",
       "    </tr>\n",
       "    <tr>\n",
       "      <th>5</th>\n",
       "      <td>CHRIS DEPP</td>\n",
       "    </tr>\n",
       "    <tr>\n",
       "      <th>6</th>\n",
       "      <td>LAURENCE BULLOCK</td>\n",
       "    </tr>\n",
       "    <tr>\n",
       "      <th>7</th>\n",
       "      <td>RENEE BALL</td>\n",
       "    </tr>\n",
       "  </tbody>\n",
       "</table>\n",
       "</div>"
      ],
      "text/plain": [
       "         Actor_name\n",
       "0          ED CHASE\n",
       "1        KARL BERRY\n",
       "2          UMA WOOD\n",
       "3       WOODY JOLIE\n",
       "4      SPENCER DEPP\n",
       "5        CHRIS DEPP\n",
       "6  LAURENCE BULLOCK\n",
       "7        RENEE BALL"
      ]
     },
     "execution_count": 337,
     "metadata": {},
     "output_type": "execute_result"
    }
   ],
   "source": [
    "pd.read_sql(res, db_con)"
   ]
  },
  {
   "cell_type": "markdown",
   "id": "436f4f21",
   "metadata": {},
   "source": [
    "### 4. Sales have been lagging among young families, and you wish to target all family movies for a promotion. Identify all movies categorized as family films."
   ]
  },
  {
   "cell_type": "code",
   "execution_count": 338,
   "id": "be9c234c",
   "metadata": {},
   "outputs": [],
   "source": [
    "query = \"\"\"select title from sakila.film\n",
    "where film_id in \n",
    "                (select film_id from sakila.film_category \n",
    "                    where category_id = \n",
    "                        (select category_id from sakila.category\n",
    "                            where name = 'Family'\n",
    "                        )\n",
    "                );\"\"\""
   ]
  },
  {
   "cell_type": "code",
   "execution_count": 339,
   "id": "a4adf765",
   "metadata": {},
   "outputs": [
    {
     "data": {
      "text/html": [
       "<div>\n",
       "<style scoped>\n",
       "    .dataframe tbody tr th:only-of-type {\n",
       "        vertical-align: middle;\n",
       "    }\n",
       "\n",
       "    .dataframe tbody tr th {\n",
       "        vertical-align: top;\n",
       "    }\n",
       "\n",
       "    .dataframe thead th {\n",
       "        text-align: right;\n",
       "    }\n",
       "</style>\n",
       "<table border=\"1\" class=\"dataframe\">\n",
       "  <thead>\n",
       "    <tr style=\"text-align: right;\">\n",
       "      <th></th>\n",
       "      <th>title</th>\n",
       "    </tr>\n",
       "  </thead>\n",
       "  <tbody>\n",
       "    <tr>\n",
       "      <th>0</th>\n",
       "      <td>AFRICAN EGG</td>\n",
       "    </tr>\n",
       "    <tr>\n",
       "      <th>1</th>\n",
       "      <td>APACHE DIVINE</td>\n",
       "    </tr>\n",
       "    <tr>\n",
       "      <th>2</th>\n",
       "      <td>ATLANTIS CAUSE</td>\n",
       "    </tr>\n",
       "    <tr>\n",
       "      <th>3</th>\n",
       "      <td>BAKED CLEOPATRA</td>\n",
       "    </tr>\n",
       "    <tr>\n",
       "      <th>4</th>\n",
       "      <td>BANG KWAI</td>\n",
       "    </tr>\n",
       "    <tr>\n",
       "      <th>...</th>\n",
       "      <td>...</td>\n",
       "    </tr>\n",
       "    <tr>\n",
       "      <th>64</th>\n",
       "      <td>SPLASH GUMP</td>\n",
       "    </tr>\n",
       "    <tr>\n",
       "      <th>65</th>\n",
       "      <td>SUNSET RACER</td>\n",
       "    </tr>\n",
       "    <tr>\n",
       "      <th>66</th>\n",
       "      <td>SUPER WYOMING</td>\n",
       "    </tr>\n",
       "    <tr>\n",
       "      <th>67</th>\n",
       "      <td>VIRTUAL SPOILERS</td>\n",
       "    </tr>\n",
       "    <tr>\n",
       "      <th>68</th>\n",
       "      <td>WILLOW TRACY</td>\n",
       "    </tr>\n",
       "  </tbody>\n",
       "</table>\n",
       "<p>69 rows × 1 columns</p>\n",
       "</div>"
      ],
      "text/plain": [
       "               title\n",
       "0        AFRICAN EGG\n",
       "1      APACHE DIVINE\n",
       "2     ATLANTIS CAUSE\n",
       "3    BAKED CLEOPATRA\n",
       "4          BANG KWAI\n",
       "..               ...\n",
       "64       SPLASH GUMP\n",
       "65      SUNSET RACER\n",
       "66     SUPER WYOMING\n",
       "67  VIRTUAL SPOILERS\n",
       "68      WILLOW TRACY\n",
       "\n",
       "[69 rows x 1 columns]"
      ]
     },
     "execution_count": 339,
     "metadata": {},
     "output_type": "execute_result"
    }
   ],
   "source": [
    "pd.read_sql(query, db_con)"
   ]
  },
  {
   "cell_type": "markdown",
   "id": "b1d24508",
   "metadata": {},
   "source": [
    "### 5. Get name and email from customers from Canada using subqueries. Do the same with joins. Note that to create a join, you will have to identify the correct tables with their primary keys and foreign keys, that will help you get the relevant information."
   ]
  },
  {
   "cell_type": "code",
   "execution_count": 341,
   "id": "8dc1e9c9",
   "metadata": {},
   "outputs": [],
   "source": [
    "# first using subqueries"
   ]
  },
  {
   "cell_type": "code",
   "execution_count": 342,
   "id": "abdff6ab",
   "metadata": {},
   "outputs": [],
   "source": [
    "query = \"\"\"\n",
    "select concat(first_name,' ',last_name) as Name, email from customer where address_id in (\n",
    "select address_id from address where city_id in (\n",
    "select city_id from city where country_id = (\n",
    "select country_id from country where country = 'canada')));\n",
    "\"\"\""
   ]
  },
  {
   "cell_type": "code",
   "execution_count": 343,
   "id": "df584f83",
   "metadata": {},
   "outputs": [
    {
     "data": {
      "text/html": [
       "<div>\n",
       "<style scoped>\n",
       "    .dataframe tbody tr th:only-of-type {\n",
       "        vertical-align: middle;\n",
       "    }\n",
       "\n",
       "    .dataframe tbody tr th {\n",
       "        vertical-align: top;\n",
       "    }\n",
       "\n",
       "    .dataframe thead th {\n",
       "        text-align: right;\n",
       "    }\n",
       "</style>\n",
       "<table border=\"1\" class=\"dataframe\">\n",
       "  <thead>\n",
       "    <tr style=\"text-align: right;\">\n",
       "      <th></th>\n",
       "      <th>Name</th>\n",
       "      <th>email</th>\n",
       "    </tr>\n",
       "  </thead>\n",
       "  <tbody>\n",
       "    <tr>\n",
       "      <th>0</th>\n",
       "      <td>DERRICK BOURQUE</td>\n",
       "      <td>DERRICK.BOURQUE@sakilacustomer.org</td>\n",
       "    </tr>\n",
       "    <tr>\n",
       "      <th>1</th>\n",
       "      <td>DARRELL POWER</td>\n",
       "      <td>DARRELL.POWER@sakilacustomer.org</td>\n",
       "    </tr>\n",
       "    <tr>\n",
       "      <th>2</th>\n",
       "      <td>LORETTA CARPENTER</td>\n",
       "      <td>LORETTA.CARPENTER@sakilacustomer.org</td>\n",
       "    </tr>\n",
       "    <tr>\n",
       "      <th>3</th>\n",
       "      <td>CURTIS IRBY</td>\n",
       "      <td>CURTIS.IRBY@sakilacustomer.org</td>\n",
       "    </tr>\n",
       "    <tr>\n",
       "      <th>4</th>\n",
       "      <td>TROY QUIGLEY</td>\n",
       "      <td>TROY.QUIGLEY@sakilacustomer.org</td>\n",
       "    </tr>\n",
       "  </tbody>\n",
       "</table>\n",
       "</div>"
      ],
      "text/plain": [
       "                Name                                 email\n",
       "0    DERRICK BOURQUE    DERRICK.BOURQUE@sakilacustomer.org\n",
       "1      DARRELL POWER      DARRELL.POWER@sakilacustomer.org\n",
       "2  LORETTA CARPENTER  LORETTA.CARPENTER@sakilacustomer.org\n",
       "3        CURTIS IRBY        CURTIS.IRBY@sakilacustomer.org\n",
       "4       TROY QUIGLEY       TROY.QUIGLEY@sakilacustomer.org"
      ]
     },
     "execution_count": 343,
     "metadata": {},
     "output_type": "execute_result"
    }
   ],
   "source": [
    "pd.read_sql(query, db_con)"
   ]
  },
  {
   "cell_type": "code",
   "execution_count": 344,
   "id": "86985795",
   "metadata": {},
   "outputs": [],
   "source": [
    "# second using joints"
   ]
  },
  {
   "cell_type": "code",
   "execution_count": 352,
   "id": "cae1cb66",
   "metadata": {},
   "outputs": [],
   "source": [
    "query = '''\n",
    "select concat(first_name,' ',last_name) as Name ,email from city \n",
    "inner join \n",
    "\tcountry\n",
    "using (country_id)\n",
    "inner join\n",
    "\taddress\n",
    "using (city_id)\n",
    "inner join\n",
    "\tcustomer\n",
    "using (address_id)\n",
    "where country = 'canada';\n",
    "\n",
    "'''"
   ]
  },
  {
   "cell_type": "code",
   "execution_count": 353,
   "id": "b9d19874",
   "metadata": {},
   "outputs": [
    {
     "data": {
      "text/html": [
       "<div>\n",
       "<style scoped>\n",
       "    .dataframe tbody tr th:only-of-type {\n",
       "        vertical-align: middle;\n",
       "    }\n",
       "\n",
       "    .dataframe tbody tr th {\n",
       "        vertical-align: top;\n",
       "    }\n",
       "\n",
       "    .dataframe thead th {\n",
       "        text-align: right;\n",
       "    }\n",
       "</style>\n",
       "<table border=\"1\" class=\"dataframe\">\n",
       "  <thead>\n",
       "    <tr style=\"text-align: right;\">\n",
       "      <th></th>\n",
       "      <th>Name</th>\n",
       "      <th>email</th>\n",
       "    </tr>\n",
       "  </thead>\n",
       "  <tbody>\n",
       "    <tr>\n",
       "      <th>0</th>\n",
       "      <td>DERRICK BOURQUE</td>\n",
       "      <td>DERRICK.BOURQUE@sakilacustomer.org</td>\n",
       "    </tr>\n",
       "    <tr>\n",
       "      <th>1</th>\n",
       "      <td>DARRELL POWER</td>\n",
       "      <td>DARRELL.POWER@sakilacustomer.org</td>\n",
       "    </tr>\n",
       "    <tr>\n",
       "      <th>2</th>\n",
       "      <td>LORETTA CARPENTER</td>\n",
       "      <td>LORETTA.CARPENTER@sakilacustomer.org</td>\n",
       "    </tr>\n",
       "    <tr>\n",
       "      <th>3</th>\n",
       "      <td>CURTIS IRBY</td>\n",
       "      <td>CURTIS.IRBY@sakilacustomer.org</td>\n",
       "    </tr>\n",
       "    <tr>\n",
       "      <th>4</th>\n",
       "      <td>TROY QUIGLEY</td>\n",
       "      <td>TROY.QUIGLEY@sakilacustomer.org</td>\n",
       "    </tr>\n",
       "  </tbody>\n",
       "</table>\n",
       "</div>"
      ],
      "text/plain": [
       "                Name                                 email\n",
       "0    DERRICK BOURQUE    DERRICK.BOURQUE@sakilacustomer.org\n",
       "1      DARRELL POWER      DARRELL.POWER@sakilacustomer.org\n",
       "2  LORETTA CARPENTER  LORETTA.CARPENTER@sakilacustomer.org\n",
       "3        CURTIS IRBY        CURTIS.IRBY@sakilacustomer.org\n",
       "4       TROY QUIGLEY       TROY.QUIGLEY@sakilacustomer.org"
      ]
     },
     "execution_count": 353,
     "metadata": {},
     "output_type": "execute_result"
    }
   ],
   "source": [
    "pd.read_sql(query, db_con)"
   ]
  },
  {
   "cell_type": "markdown",
   "id": "f3b3c000",
   "metadata": {},
   "source": [
    "### 6. Which are films starred by the most prolific actor? Most prolific actor is defined as the actor that has acted in the most number of films. First you will have to find the most prolific actor and then use that actor_id to find the different films that he/she starred."
   ]
  },
  {
   "cell_type": "code",
   "execution_count": null,
   "id": "ed13e6d5",
   "metadata": {},
   "outputs": [],
   "source": []
  }
 ],
 "metadata": {
  "kernelspec": {
   "display_name": "Python 3 (ipykernel)",
   "language": "python",
   "name": "python3"
  },
  "language_info": {
   "codemirror_mode": {
    "name": "ipython",
    "version": 3
   },
   "file_extension": ".py",
   "mimetype": "text/x-python",
   "name": "python",
   "nbconvert_exporter": "python",
   "pygments_lexer": "ipython3",
   "version": "3.9.6"
  }
 },
 "nbformat": 4,
 "nbformat_minor": 5
}
