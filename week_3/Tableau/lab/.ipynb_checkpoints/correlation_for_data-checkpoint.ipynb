{
 "cells": [
  {
   "cell_type": "code",
   "execution_count": 2,
   "id": "5eee071a",
   "metadata": {},
   "outputs": [],
   "source": [
    "import pandas as pd"
   ]
  },
  {
   "cell_type": "code",
   "execution_count": 6,
   "id": "bd8fd453",
   "metadata": {},
   "outputs": [
    {
     "name": "stdout",
     "output_type": "stream",
     "text": [
      "total 8\r\n",
      "-rw-r--r--  1 denny  staff  1846 Nov  4 18:54 correlation_for_data.ipynb\r\n",
      "drwxr-xr-x@ 4 denny  staff   128 Nov  4 14:30 \u001b[34mcustomer_analysis_case_study\u001b[m\u001b[m/\r\n"
     ]
    }
   ],
   "source": [
    "ls -l"
   ]
  },
  {
   "cell_type": "code",
   "execution_count": 7,
   "id": "77818ff8",
   "metadata": {},
   "outputs": [],
   "source": [
    "file = pd.read_csv(\"customer_analysis_case_study/Data_Marketing_Customer_Analysis_Round2_.csv\")"
   ]
  },
  {
   "cell_type": "code",
   "execution_count": 9,
   "id": "03d1b581",
   "metadata": {},
   "outputs": [],
   "source": [
    "file.drop(columns='Unnamed: 0', inplace=True)"
   ]
  },
  {
   "cell_type": "code",
   "execution_count": 11,
   "id": "d7babfa6",
   "metadata": {},
   "outputs": [],
   "source": [
    "corr = file.corr()"
   ]
  },
  {
   "cell_type": "code",
   "execution_count": 13,
   "id": "dedc3fc5",
   "metadata": {},
   "outputs": [],
   "source": [
    "corr.to_csv(\"customer_analysis_case_study/corr_file.csv\")"
   ]
  },
  {
   "cell_type": "code",
   "execution_count": null,
   "id": "55a0587a",
   "metadata": {},
   "outputs": [],
   "source": []
  }
 ],
 "metadata": {
  "kernelspec": {
   "display_name": "Python 3 (ipykernel)",
   "language": "python",
   "name": "python3"
  },
  "language_info": {
   "codemirror_mode": {
    "name": "ipython",
    "version": 3
   },
   "file_extension": ".py",
   "mimetype": "text/x-python",
   "name": "python",
   "nbconvert_exporter": "python",
   "pygments_lexer": "ipython3",
   "version": "3.9.6"
  }
 },
 "nbformat": 4,
 "nbformat_minor": 5
}
