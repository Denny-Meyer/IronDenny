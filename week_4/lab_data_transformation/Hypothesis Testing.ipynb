{
 "cells": [
  {
   "cell_type": "markdown",
   "metadata": {},
   "source": [
    "### Instructions\n",
    "\n",
    "It is assumed that the mean systolic blood pressure is μ = 120 mm Hg. In the Honolulu Heart Study, a sample of n = 100 people had an average systolic blood pressure of 130.1 mm Hg with a standard deviation of 21.21 mm Hg. Is the group significantly different (with respect to systolic blood pressure!) from the regular population?\n",
    "\n",
    "***Set up the hypothesis test.***\n",
    "\n",
    "Write down all the steps followed for setting up the test.\n",
    "Calculate the test statistic by hand and also code it in Python. It should be 4.76190. What decision can you make based on this calculated value?\n",
    "\n",
    "***For Tomorrow:***\n",
    "\n",
    "In a packing plant, a machine packs cartons with jars. It is supposed that a new machine will pack faster on the average than the machine currently used. To test that hypothesis, the times it takes each machine to pack ten cartons are recorded. The results, in seconds, are shown in the tables in the file Data/machine.txt. Assume that there is sufficient evidence to conduct the t test, does the data provide sufficient evidence to show if one machine is better than the other"
   ]
  },
  {
   "cell_type": "markdown",
   "metadata": {},
   "source": [
    "#### Case: Honolulu Heart Study "
   ]
  },
  {
   "cell_type": "code",
   "execution_count": 2,
   "metadata": {},
   "outputs": [],
   "source": [
    "import math"
   ]
  },
  {
   "cell_type": "code",
   "execution_count": 9,
   "metadata": {},
   "outputs": [
    {
     "name": "stdout",
     "output_type": "stream",
     "text": [
      "t = 4.761904761904759\n"
     ]
    }
   ],
   "source": [
    "# mean systolic blood pressure from population\n",
    "mu = 120\n",
    "\n",
    "#sample number\n",
    "n = 100 \n",
    "\n",
    "# mean blood pressure from the sample\n",
    "x_mean = 130.1\n",
    "\n",
    "# standart deviation from sample \n",
    "std_sample = 21.21\n",
    "\n",
    "# Question\n",
    "# H0 -> the mean of sample has a blood pressure by 120\n",
    "# Ha -> the mean of sample has blood pressure is not equal 120, so it's higher or lower\n",
    "\n",
    "# that is a two tailed test with t-score as the std_dev from population is unkown\n",
    "\n",
    "t = (130.1 - 120) / (21.21 / math.sqrt(100))\n",
    "\n",
    "print('t =',t)"
   ]
  },
  {
   "cell_type": "markdown",
   "metadata": {},
   "source": [
    "> get the critical border zones as it works in two tail \n",
    ">\n",
    "> t-score table for 95% confidence in 2 two tail mode for 100 sample return  t-score = 1.984\n",
    ">\n",
    "> Solution:\n",
    ">\n",
    "> H0 = if - 1.984 > 4.761  or if 4.761 < 1.984\n",
    ">\n",
    "> Ha = if - 1.984 < 4.761 or if 4.761 > 1.984 -> which is the case in this study"
   ]
  },
  {
   "cell_type": "markdown",
   "metadata": {},
   "source": [
    "### result: the sample does not following in the H0 terms, so Ha is true "
   ]
  },
  {
   "cell_type": "markdown",
   "metadata": {},
   "source": [
    "### Python approach\n"
   ]
  },
  {
   "cell_type": "code",
   "execution_count": 30,
   "metadata": {},
   "outputs": [
    {
     "name": "stdout",
     "output_type": "stream",
     "text": [
      "tc =  1.9842169515086827\n"
     ]
    }
   ],
   "source": [
    "# import library\n",
    "from scipy import stats\n",
    "\n",
    "t = (x_mean - mu) / (std_sample / math.sqrt(n))\n",
    "\n",
    "# sample size\n",
    "n = 100\n",
    "# tc critical value with freedom degree 100 - 1 \n",
    "\n",
    "tc = stats.t.ppf(1 - (0.05 / 2), n - 1 )\n",
    "tc = stats.t.ppf(0.975, n - 1 )\n",
    "print('tc = ', tc)\n"
   ]
  },
  {
   "cell_type": "code",
   "execution_count": 27,
   "metadata": {},
   "outputs": [
    {
     "name": "stdout",
     "output_type": "stream",
     "text": [
      "result is: Ha is valid as the result is inside the rejection zone\n"
     ]
    }
   ],
   "source": [
    "# check if t laying inside t-score\n",
    "\n",
    "if t > -tc and t < tc:\n",
    "   print('result is: H0 is valid')\n",
    "else:\n",
    "    print('result is: Ha is valid as the result is inside the rejection zone') "
   ]
  }
 ],
 "metadata": {
  "interpreter": {
   "hash": "31f2aee4e71d21fbe5cf8b01ff0e069b9275f58929596ceb00d14d90e3e16cd6"
  },
  "kernelspec": {
   "display_name": "Python 3.8.2 64-bit",
   "language": "python",
   "name": "python3"
  },
  "language_info": {
   "codemirror_mode": {
    "name": "ipython",
    "version": 3
   },
   "file_extension": ".py",
   "mimetype": "text/x-python",
   "name": "python",
   "nbconvert_exporter": "python",
   "pygments_lexer": "ipython3",
   "version": "3.9.6"
  },
  "orig_nbformat": 4
 },
 "nbformat": 4,
 "nbformat_minor": 2
}
