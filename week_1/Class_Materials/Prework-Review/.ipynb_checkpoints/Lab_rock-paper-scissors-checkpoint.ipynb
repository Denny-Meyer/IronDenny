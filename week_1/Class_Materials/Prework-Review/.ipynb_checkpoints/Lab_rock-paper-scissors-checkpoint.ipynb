{
 "cells": [
  {
   "cell_type": "markdown",
   "metadata": {},
   "source": [
    "<img src=\"https://bit.ly/2VnXWr2\" width=\"100\" align=\"left\">"
   ]
  },
  {
   "cell_type": "markdown",
   "metadata": {},
   "source": [
    "# Rock, Paper & Scissors\n",
    "\n",
    "Let's play the famous game against our computer. You can check the rules [here](https://en.wikipedia.org/wiki/Rock%E2%80%93paper%E2%80%93scissors). \n",
    "\n",
    "## Task\n",
    "Create a program that imitates the playability of the well known game of rock, paper, scissors. Follow the guidelines provided.\n",
    "\n",
    "## Tools\n",
    "1. Loop: **for/while**\n",
    "2. Functions: **input(), print()...**\n",
    "3. Conditional statements: **if, elif, else**\n",
    "4. Definition of functions. Modular programming\n",
    "5. Import modules\n",
    "\n",
    "**To solve this challenge, the use of functions is recommended.**\n",
    "\n",
    "#### 1. Import the choice function of the random module."
   ]
  },
  {
   "cell_type": "code",
   "execution_count": 1,
   "metadata": {},
   "outputs": [],
   "source": [
    "import random"
   ]
  },
  {
   "cell_type": "markdown",
   "metadata": {},
   "source": [
    "#### 2. Create a list that includes the 3 possible gesture options of the game: 'rock', 'paper' or 'scissors'. Store the list in a variable called `gestures`."
   ]
  },
  {
   "cell_type": "code",
   "execution_count": 2,
   "metadata": {},
   "outputs": [],
   "source": [
    "gestures = ['rock', 'paper', 'scissors']"
   ]
  },
  {
   "cell_type": "markdown",
   "metadata": {},
   "source": [
    "#### 3. Create a variable called `n_rounds` to store the maximum number of rounds to play in a game. \n",
    "Remember that the number of rounds must be odd: 1, 3, 5, ..."
   ]
  },
  {
   "cell_type": "code",
   "execution_count": 3,
   "metadata": {},
   "outputs": [],
   "source": [
    "n_round = random.randint(10, 15)\n",
    "if n_round %2 == 0:\n",
    "    n_round += 1\n"
   ]
  },
  {
   "cell_type": "markdown",
   "metadata": {},
   "source": [
    "#### 4. Create a variable called `rounds_to_win` to store the number of rounds that a player must win to win the game.\n",
    "**Hint**: the value stored in `rounds_to_win` depends on the value of `n_rounds`. "
   ]
  },
  {
   "cell_type": "code",
   "execution_count": 4,
   "metadata": {},
   "outputs": [
    {
     "name": "stdout",
     "output_type": "stream",
     "text": [
      "13\n",
      "7\n"
     ]
    }
   ],
   "source": [
    "print(n_round)\n",
    "round_to_win = int(n_round/2) + 1 # attentione tie round will influence the result\n",
    "print(round_to_win)"
   ]
  },
  {
   "cell_type": "markdown",
   "metadata": {},
   "source": [
    "#### 5. Create two variables to store the number of rounds that the computer and the player have won. Call these variables `cpu_score` and `player_score`."
   ]
  },
  {
   "cell_type": "code",
   "execution_count": 5,
   "metadata": {},
   "outputs": [],
   "source": [
    "cpu_score = 0\n",
    "player_score = 0"
   ]
  },
  {
   "cell_type": "markdown",
   "metadata": {},
   "source": [
    "#### 6. Define a function that randomly returns one of the 3 gesture options.\n",
    "You will use this function to simulate the gesture choice of the computer. "
   ]
  },
  {
   "cell_type": "code",
   "execution_count": 6,
   "metadata": {},
   "outputs": [],
   "source": [
    "def get_cpu_hand():\n",
    "    cpu_hand = random.sample(gestures, 1)[0] #put the list element out \n",
    "    #print(cpu_hand) debug\n",
    "    return cpu_hand"
   ]
  },
  {
   "cell_type": "markdown",
   "metadata": {},
   "source": [
    "#### 7. Define a function that asks the player which is the gesture he or she wants to show: 'rock', 'paper' or 'scissors'.\n",
    "The player should only be allowed to choose one of the 3 gesture options. If the player's choice is not rock, paper or scissors, keep asking until it is."
   ]
  },
  {
   "cell_type": "code",
   "execution_count": 63,
   "metadata": {},
   "outputs": [],
   "source": [
    "def get_player_hand() -> int:\n",
    "    player_hand = 0\n",
    "    while True:\n",
    "        player_hand = int(input(\" please, choose a hand, rock = 0, paper = 1, scissors = 2\"))\n",
    "        #print(player_hand) debug\n",
    "        if player_hand == 0: return \"rock\"\n",
    "        if player_hand == 1: return \"paper\"\n",
    "        if player_hand == 2: return \"scissors\"\n",
    "            \n"
   ]
  },
  {
   "cell_type": "markdown",
   "metadata": {},
   "source": [
    "#### 8. Define a function that checks who won a round. \n",
    "The function should return 0 if there is a tie, 1 if the computer wins and 2 if the player wins."
   ]
  },
  {
   "cell_type": "code",
   "execution_count": 8,
   "metadata": {},
   "outputs": [],
   "source": [
    "def parse_hand_to_number(hand: str)-> int:\n",
    "    if hand == \"rock\": return 0\n",
    "    elif hand == \"paper\": return 1\n",
    "    elif hand == \"scissors\": return 2\n",
    "    else: return None\n",
    "\n",
    "    \n",
    "def battle(player: str, cpu:str) -> int:    \n",
    "    \n",
    "    #combination table\n",
    "    #rock + paper = paper win\n",
    "    #rock + scissors = rock win\n",
    "    #paper + scissors = scissors win\n",
    "    \n",
    "    p_play = parse_hand_to_number(player)\n",
    "    p_cpu = parse_hand_to_number(cpu)\n",
    "    \n",
    "    # both the same, a Tie\n",
    "    if p_play == p_cpu:\n",
    "        return 0\n",
    "    \n",
    "    # player wins only on this conditions otherwise the cpu wins\n",
    "    if p_play == 2 and p_cpu == 1: return 2\n",
    "    if p_play == 0 and p_cpu == 2: return 2\n",
    "    if p_play == 1 and p_cpu == 0: return 2\n",
    "    \n",
    "    # if you got it to this point, all you luck is gone\n",
    "    # you lost this round my friend \n",
    "    return 1\n",
    "    \n",
    "    "
   ]
  },
  {
   "cell_type": "markdown",
   "metadata": {},
   "source": [
    "#### 9. Define a function that prints the choice of the computer, the choice of the player and a message that announces who won the current round. \n",
    "You should also use this function to update the variables that count the number of rounds that the computer and the player have won. The score of the winner increases by one point. If there is a tie, the score does not increase."
   ]
  },
  {
   "cell_type": "code",
   "execution_count": 52,
   "metadata": {},
   "outputs": [],
   "source": [
    "def resolve_battle(player: str, cpu: str, score: int):\n",
    "    \n",
    "    #print(player, cpu) debug\n",
    "    \n",
    "    res = battle(player, cpu)\n",
    "    name = \"\"\n",
    "    if res == 0:\n",
    "        print(\"Round was Tie , Player with %s vs CPU with %s\"% (player, cpu))\n",
    "        return score, res\n",
    "        \n",
    "    if res == 1: \n",
    "        name = \"CPU\"\n",
    "        score -= 1\n",
    "    if res == 2: \n",
    "        name = \"Player\"\n",
    "        score += 1\n",
    "    print(\"Round won by %s , Player with %s vs CPU with %s\"% (name, player, cpu) )\n",
    "    \n",
    "    return score, res\n",
    "    "
   ]
  },
  {
   "cell_type": "markdown",
   "metadata": {},
   "source": [
    "#### 10. Now it's time to code the execution of the game using the functions and variables you defined above. \n",
    "\n",
    "First, create a loop structure that repeats while no player reaches the minimum score necessary to win and the number of rounds is less than the maximum number of rounds to play in a game.  \n",
    "\n",
    "Inside the loop, use the functions and variables above to create the execution of a round: ask for the player's choice, generate the random choice of the computer, show the round results, update the scores, etc. "
   ]
  },
  {
   "cell_type": "code",
   "execution_count": 77,
   "metadata": {},
   "outputs": [
    {
     "name": "stdout",
     "output_type": "stream",
     "text": [
      "round to play  3\n",
      " please, choose a hand, rock = 0, paper = 1, scissors = 22\n",
      "Round won by Player , Player with scissors vs CPU with paper\n",
      "round to play  2\n",
      " please, choose a hand, rock = 0, paper = 1, scissors = 21\n",
      "Round won by CPU , Player with paper vs CPU with scissors\n",
      "round to play  1\n",
      " please, choose a hand, rock = 0, paper = 1, scissors = 22\n",
      "Round was Tie , Player with scissors vs CPU with scissors\n",
      "round to play  0\n",
      " please, choose a hand, rock = 0, paper = 1, scissors = 23\n",
      " please, choose a hand, rock = 0, paper = 1, scissors = 22\n",
      "Round won by Player , Player with scissors vs CPU with paper\n"
     ]
    }
   ],
   "source": [
    "score = 0\n",
    "while (n_round >= 0):\n",
    "    print(\"round to play \", n_round)\n",
    "    cpu = get_cpu_hand()\n",
    "    player = get_player_hand()\n",
    "    score,_ = resolve_battle(player=player, cpu=cpu, score=score)\n",
    "    \n",
    "    # check if game is allready final\n",
    "    if score >= round_to_win:\n",
    "        print(\"Player won and can not be reached\")\n",
    "        break\n",
    "    elif -score >= round_to_win:\n",
    "        print(\"CPU won and can not be reached\")\n",
    "        break\n",
    "    \n",
    "    n_round -= 1"
   ]
  },
  {
   "cell_type": "markdown",
   "metadata": {},
   "source": [
    "# 11. Print the winner of the game based on who won more rounds.\n",
    "Remember that the game might be tied. "
   ]
  },
  {
   "cell_type": "code",
   "execution_count": 79,
   "metadata": {},
   "outputs": [
    {
     "name": "stdout",
     "output_type": "stream",
     "text": [
      "score 1\n",
      "player won\n"
     ]
    }
   ],
   "source": [
    "print(\"score\",score) #debug\n",
    "if score > 0:\n",
    "    print(\"player won\")\n",
    "elif score < 0:\n",
    "    print(\"cpu won\")\n",
    "else:\n",
    "    print(\"Tie\")"
   ]
  },
  {
   "cell_type": "markdown",
   "metadata": {},
   "source": [
    "# Bonus: Rock, Paper, Scissors, Lizard & Spock\n",
    "![](images/rpsls.jpg)\n",
    "\n",
    "In this challenge, you need to improve the previous game by adding two new options. To know more about the rules of the improved version of rock, paper, scissors, check this [link](http://www.samkass.com/theories/RPSSL.html). \n",
    "\n",
    "In addition, you will also need to improve how the game interacts with the player: the number of rounds to play, which must be an odd number, will be requested to the user until a valid number is entered. Define a new function to make that request.\n",
    "\n",
    "**Hint**: Try to reuse the code that you already coded in the previous challenge. If your code is efficient, this bonus will only consist of simple modifications to the original game."
   ]
  },
  {
   "cell_type": "code",
   "execution_count": 84,
   "metadata": {},
   "outputs": [],
   "source": [
    "def get_number_of_rounds()-> int:\n",
    "    \n",
    "    # get round number and if number is odd, assign the round_to_win value\n",
    "    while True:\n",
    "        number = int(input(\"please, enter number of rounds which you would like to play...\"))\n",
    "        if number %2 != 0:\n",
    "            n_round = number\n",
    "            round_to_win = n_round/2 + 1\n",
    "            return number\n",
    "\n",
    "            \n",
    "def game_loop(number_rounds: int):\n",
    "    rounds = number_rounds\n",
    "    score = 0\n",
    "    player_score = 0\n",
    "    cpu_score = 0\n",
    "    \n",
    "    \n",
    "    # change\n",
    "    # add second return \"res\" value from resolve battle with the winner number\n",
    "    # and score this values\n",
    "    \n",
    "    while (rounds > 0):\n",
    "        print(\"\\nround to play \", rounds)\n",
    "        cpu = get_cpu_hand()\n",
    "        player = get_player_hand()\n",
    "        score, res = resolve_battle(player=player, cpu=cpu, score=score)\n",
    "        rounds -= 1\n",
    "        if res == 1:\n",
    "            cpu_score += 1\n",
    "        elif res == 2:\n",
    "            player_score += 1\n",
    "        \n",
    "        # check if game is allready matched\n",
    "        if player_score >= round_to_win:\n",
    "            print(\"Player is too far ahead\")\n",
    "            break\n",
    "        if cpu_score >= round_to_win:\n",
    "            print(\"CPU is too far ahead\")\n",
    "            break\n",
    "    \n",
    "    # add final print with player and cpu score\n",
    "    \n",
    "    print(\"\\nfinal player score\", score) #debug\n",
    "    if score > 0:\n",
    "        print(\"player won\", player_score,\"to\", cpu_score)\n",
    "    elif score < 0:\n",
    "        print(\"cpu won\", player_score,\"to\", cpu_score)\n",
    "    else:\n",
    "        print(\"Tie\",player_score,\"to\", cpu_score)\n",
    "    "
   ]
  },
  {
   "cell_type": "code",
   "execution_count": 85,
   "metadata": {},
   "outputs": [
    {
     "name": "stdout",
     "output_type": "stream",
     "text": [
      "please, enter number of rounds which you would like to play...3\n"
     ]
    }
   ],
   "source": [
    "n_round = get_number_of_rounds()"
   ]
  },
  {
   "cell_type": "code",
   "execution_count": 86,
   "metadata": {},
   "outputs": [
    {
     "name": "stdout",
     "output_type": "stream",
     "text": [
      "\n",
      "round to play  3\n",
      " please, choose a hand, rock = 0, paper = 1, scissors = 22\n",
      "Round won by CPU , Player with scissors vs CPU with rock\n",
      "\n",
      "round to play  2\n",
      " please, choose a hand, rock = 0, paper = 1, scissors = 21\n",
      "Round was Tie , Player with paper vs CPU with paper\n",
      "\n",
      "round to play  1\n",
      " please, choose a hand, rock = 0, paper = 1, scissors = 22\n",
      "Round won by Player , Player with scissors vs CPU with paper\n",
      "\n",
      "final player score 0\n",
      "Tie 1 to 1\n"
     ]
    }
   ],
   "source": [
    "game_loop(n_round)"
   ]
  },
  {
   "cell_type": "markdown",
   "metadata": {},
   "source": [
    "### Modif v2"
   ]
  },
  {
   "cell_type": "code",
   "execution_count": 24,
   "metadata": {},
   "outputs": [
    {
     "ename": "SyntaxError",
     "evalue": "invalid syntax (4213894050.py, line 9)",
     "output_type": "error",
     "traceback": [
      "\u001b[0;36m  File \u001b[0;32m\"/var/folders/58/83__n5jj77s0p9pv81ccxck40000gn/T/ipykernel_2683/4213894050.py\"\u001b[0;36m, line \u001b[0;32m9\u001b[0m\n\u001b[0;31m    def click_stone:\u001b[0m\n\u001b[0m                   ^\u001b[0m\n\u001b[0;31mSyntaxError\u001b[0m\u001b[0;31m:\u001b[0m invalid syntax\n"
     ]
    }
   ],
   "source": [
    "# import ipywidget via package installer in conda\n",
    "\n",
    "# import module\n",
    "import ipywidgets as widgets\n",
    "from IPython.display import display\n",
    "\n",
    "player_hand = \"\"\n",
    "\n",
    "def click_stone():\n",
    "    player_hand = \"stone\"\n",
    "\n",
    "def click_paper():\n",
    "    player_hand = \"paper\"\n",
    "\n",
    "def click_scissors():\n",
    "    player_hand = \"scissors\"\n",
    "    \n",
    "# creating button\n",
    "btn_stone = widgets.Button(description = 'Stone')\n",
    "btn_stone.on_click(click_stone)\n",
    "btn_paper = widgets.Button(description = 'Paper')\n",
    "btn_paper.on_click(click_paper)\n",
    "btn_scissors = widgets.Button(description = 'Scissors')\n",
    "btn_scissors.on_click(click_scissors)\n",
    "display(widgets.HBox((btn_stone, btn_paper, btn_scissors)))"
   ]
  },
  {
   "cell_type": "code",
   "execution_count": null,
   "metadata": {},
   "outputs": [],
   "source": []
  },
  {
   "cell_type": "code",
   "execution_count": null,
   "metadata": {},
   "outputs": [],
   "source": []
  }
 ],
 "metadata": {
  "kernelspec": {
   "display_name": "Python 3 (ipykernel)",
   "language": "python",
   "name": "python3"
  },
  "language_info": {
   "codemirror_mode": {
    "name": "ipython",
    "version": 3
   },
   "file_extension": ".py",
   "mimetype": "text/x-python",
   "name": "python",
   "nbconvert_exporter": "python",
   "pygments_lexer": "ipython3",
   "version": "3.9.6"
  }
 },
 "nbformat": 4,
 "nbformat_minor": 2
}
