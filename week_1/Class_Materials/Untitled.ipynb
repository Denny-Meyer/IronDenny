{
 "cells": [
  {
   "cell_type": "code",
   "execution_count": 1,
   "id": "c27a4354",
   "metadata": {},
   "outputs": [],
   "source": [
    "x = lambda x: x+3"
   ]
  },
  {
   "cell_type": "code",
   "execution_count": 2,
   "id": "014e8c64",
   "metadata": {},
   "outputs": [
    {
     "data": {
      "text/plain": [
       "6"
      ]
     },
     "execution_count": 2,
     "metadata": {},
     "output_type": "execute_result"
    }
   ],
   "source": [
    "x(3)"
   ]
  },
  {
   "cell_type": "code",
   "execution_count": 5,
   "id": "1e288c76",
   "metadata": {},
   "outputs": [],
   "source": [
    "import numpy as np"
   ]
  },
  {
   "cell_type": "code",
   "execution_count": 6,
   "id": "86bf4ff3",
   "metadata": {},
   "outputs": [],
   "source": [
    "l = [22,323,434,2,3]"
   ]
  },
  {
   "cell_type": "code",
   "execution_count": 22,
   "id": "dbbf701c",
   "metadata": {},
   "outputs": [],
   "source": [
    "res = map(lambda x: x + 3 if x < 8 else 32, l)"
   ]
  },
  {
   "cell_type": "code",
   "execution_count": 23,
   "id": "bc4d3c0d",
   "metadata": {},
   "outputs": [
    {
     "data": {
      "text/plain": [
       "[32, 32, 32, 5, 6]"
      ]
     },
     "execution_count": 23,
     "metadata": {},
     "output_type": "execute_result"
    }
   ],
   "source": [
    "list(res)"
   ]
  },
  {
   "cell_type": "code",
   "execution_count": 25,
   "id": "e95445ae",
   "metadata": {},
   "outputs": [],
   "source": [
    "import pandas as pd\n",
    "import numpy as np"
   ]
  },
  {
   "cell_type": "code",
   "execution_count": 29,
   "id": "43657d5d",
   "metadata": {},
   "outputs": [],
   "source": [
    "two = np.random.randint(10, size=(3,4) )"
   ]
  },
  {
   "cell_type": "code",
   "execution_count": 32,
   "id": "6bcf9eca",
   "metadata": {
    "scrolled": false
   },
   "outputs": [],
   "source": [
    "df = pd.DataFrame(two)"
   ]
  },
  {
   "cell_type": "code",
   "execution_count": 33,
   "id": "aa7a3d6b",
   "metadata": {},
   "outputs": [
    {
     "data": {
      "text/html": [
       "<div>\n",
       "<style scoped>\n",
       "    .dataframe tbody tr th:only-of-type {\n",
       "        vertical-align: middle;\n",
       "    }\n",
       "\n",
       "    .dataframe tbody tr th {\n",
       "        vertical-align: top;\n",
       "    }\n",
       "\n",
       "    .dataframe thead th {\n",
       "        text-align: right;\n",
       "    }\n",
       "</style>\n",
       "<table border=\"1\" class=\"dataframe\">\n",
       "  <thead>\n",
       "    <tr style=\"text-align: right;\">\n",
       "      <th></th>\n",
       "      <th>0</th>\n",
       "      <th>1</th>\n",
       "      <th>2</th>\n",
       "      <th>3</th>\n",
       "    </tr>\n",
       "  </thead>\n",
       "  <tbody>\n",
       "    <tr>\n",
       "      <th>0</th>\n",
       "      <td>3</td>\n",
       "      <td>9</td>\n",
       "      <td>7</td>\n",
       "      <td>8</td>\n",
       "    </tr>\n",
       "    <tr>\n",
       "      <th>1</th>\n",
       "      <td>4</td>\n",
       "      <td>3</td>\n",
       "      <td>7</td>\n",
       "      <td>4</td>\n",
       "    </tr>\n",
       "    <tr>\n",
       "      <th>2</th>\n",
       "      <td>0</td>\n",
       "      <td>5</td>\n",
       "      <td>5</td>\n",
       "      <td>5</td>\n",
       "    </tr>\n",
       "  </tbody>\n",
       "</table>\n",
       "</div>"
      ],
      "text/plain": [
       "   0  1  2  3\n",
       "0  3  9  7  8\n",
       "1  4  3  7  4\n",
       "2  0  5  5  5"
      ]
     },
     "execution_count": 33,
     "metadata": {},
     "output_type": "execute_result"
    }
   ],
   "source": [
    "df"
   ]
  },
  {
   "cell_type": "code",
   "execution_count": 41,
   "id": "04d71b06",
   "metadata": {},
   "outputs": [],
   "source": [
    "df.iloc[0,1] = 'Hello'"
   ]
  },
  {
   "cell_type": "code",
   "execution_count": 42,
   "id": "f90e3c65",
   "metadata": {},
   "outputs": [
    {
     "data": {
      "text/html": [
       "<div>\n",
       "<style scoped>\n",
       "    .dataframe tbody tr th:only-of-type {\n",
       "        vertical-align: middle;\n",
       "    }\n",
       "\n",
       "    .dataframe tbody tr th {\n",
       "        vertical-align: top;\n",
       "    }\n",
       "\n",
       "    .dataframe thead th {\n",
       "        text-align: right;\n",
       "    }\n",
       "</style>\n",
       "<table border=\"1\" class=\"dataframe\">\n",
       "  <thead>\n",
       "    <tr style=\"text-align: right;\">\n",
       "      <th></th>\n",
       "      <th>0</th>\n",
       "      <th>1</th>\n",
       "      <th>2</th>\n",
       "      <th>3</th>\n",
       "    </tr>\n",
       "  </thead>\n",
       "  <tbody>\n",
       "    <tr>\n",
       "      <th>0</th>\n",
       "      <td>3</td>\n",
       "      <td>Hello</td>\n",
       "      <td>7</td>\n",
       "      <td>8</td>\n",
       "    </tr>\n",
       "    <tr>\n",
       "      <th>1</th>\n",
       "      <td>4</td>\n",
       "      <td>3</td>\n",
       "      <td>7</td>\n",
       "      <td>4</td>\n",
       "    </tr>\n",
       "    <tr>\n",
       "      <th>2</th>\n",
       "      <td>0</td>\n",
       "      <td>5</td>\n",
       "      <td>5</td>\n",
       "      <td>5</td>\n",
       "    </tr>\n",
       "  </tbody>\n",
       "</table>\n",
       "</div>"
      ],
      "text/plain": [
       "   0      1  2  3\n",
       "0  3  Hello  7  8\n",
       "1  4      3  7  4\n",
       "2  0      5  5  5"
      ]
     },
     "execution_count": 42,
     "metadata": {},
     "output_type": "execute_result"
    }
   ],
   "source": [
    "df"
   ]
  },
  {
   "cell_type": "code",
   "execution_count": 49,
   "id": "431892ef",
   "metadata": {},
   "outputs": [],
   "source": [
    "df = pd.DataFrame(np.random.randint(10, size=(3,2)), columns=[\"x\",\"y\"], index=[\"A\",\"B\",\"C\"])"
   ]
  },
  {
   "cell_type": "code",
   "execution_count": 50,
   "id": "320e6d3b",
   "metadata": {},
   "outputs": [
    {
     "data": {
      "text/html": [
       "<div>\n",
       "<style scoped>\n",
       "    .dataframe tbody tr th:only-of-type {\n",
       "        vertical-align: middle;\n",
       "    }\n",
       "\n",
       "    .dataframe tbody tr th {\n",
       "        vertical-align: top;\n",
       "    }\n",
       "\n",
       "    .dataframe thead th {\n",
       "        text-align: right;\n",
       "    }\n",
       "</style>\n",
       "<table border=\"1\" class=\"dataframe\">\n",
       "  <thead>\n",
       "    <tr style=\"text-align: right;\">\n",
       "      <th></th>\n",
       "      <th>x</th>\n",
       "      <th>y</th>\n",
       "    </tr>\n",
       "  </thead>\n",
       "  <tbody>\n",
       "    <tr>\n",
       "      <th>A</th>\n",
       "      <td>6</td>\n",
       "      <td>8</td>\n",
       "    </tr>\n",
       "    <tr>\n",
       "      <th>B</th>\n",
       "      <td>5</td>\n",
       "      <td>7</td>\n",
       "    </tr>\n",
       "    <tr>\n",
       "      <th>C</th>\n",
       "      <td>7</td>\n",
       "      <td>3</td>\n",
       "    </tr>\n",
       "  </tbody>\n",
       "</table>\n",
       "</div>"
      ],
      "text/plain": [
       "   x  y\n",
       "A  6  8\n",
       "B  5  7\n",
       "C  7  3"
      ]
     },
     "execution_count": 50,
     "metadata": {},
     "output_type": "execute_result"
    }
   ],
   "source": [
    "df"
   ]
  },
  {
   "cell_type": "code",
   "execution_count": 55,
   "id": "dcbccafc",
   "metadata": {},
   "outputs": [],
   "source": [
    "ds = pd.read_csv(\"health4all.csv\")"
   ]
  },
  {
   "cell_type": "code",
   "execution_count": 56,
   "id": "5d8ffc06",
   "metadata": {},
   "outputs": [
    {
     "data": {
      "text/html": [
       "<div>\n",
       "<style scoped>\n",
       "    .dataframe tbody tr th:only-of-type {\n",
       "        vertical-align: middle;\n",
       "    }\n",
       "\n",
       "    .dataframe tbody tr th {\n",
       "        vertical-align: top;\n",
       "    }\n",
       "\n",
       "    .dataframe thead th {\n",
       "        text-align: right;\n",
       "    }\n",
       "</style>\n",
       "<table border=\"1\" class=\"dataframe\">\n",
       "  <thead>\n",
       "    <tr style=\"text-align: right;\">\n",
       "      <th></th>\n",
       "      <th>Unnamed: 0</th>\n",
       "      <th>id</th>\n",
       "      <th>state</th>\n",
       "      <th>gender</th>\n",
       "      <th>dob</th>\n",
       "      <th>avggift</th>\n",
       "      <th>hv1</th>\n",
       "      <th>med_house_income</th>\n",
       "      <th>avg_fam_income</th>\n",
       "      <th>hvp1</th>\n",
       "      <th>ic5</th>\n",
       "      <th>pobc1</th>\n",
       "      <th>pobc2</th>\n",
       "      <th>med_fam_income</th>\n",
       "      <th>avg_house_income</th>\n",
       "      <th>domain</th>\n",
       "      <th>profit</th>\n",
       "      <th>target_d</th>\n",
       "    </tr>\n",
       "  </thead>\n",
       "  <tbody>\n",
       "    <tr>\n",
       "      <th>0</th>\n",
       "      <td>0</td>\n",
       "      <td>44060</td>\n",
       "      <td>FL</td>\n",
       "      <td>M</td>\n",
       "      <td>1901</td>\n",
       "      <td>28.000000</td>\n",
       "      <td>NaN</td>\n",
       "      <td>392</td>\n",
       "      <td>520.0</td>\n",
       "      <td>7</td>\n",
       "      <td>21975</td>\n",
       "      <td>6</td>\n",
       "      <td>16</td>\n",
       "      <td>430.0</td>\n",
       "      <td>466</td>\n",
       "      <td>C2</td>\n",
       "      <td>72.000000</td>\n",
       "      <td>100.0</td>\n",
       "    </tr>\n",
       "    <tr>\n",
       "      <th>1</th>\n",
       "      <td>1</td>\n",
       "      <td>96093</td>\n",
       "      <td>IL</td>\n",
       "      <td>M</td>\n",
       "      <td>0</td>\n",
       "      <td>5.666667</td>\n",
       "      <td>537.0</td>\n",
       "      <td>365</td>\n",
       "      <td>473.0</td>\n",
       "      <td>0</td>\n",
       "      <td>19387</td>\n",
       "      <td>1</td>\n",
       "      <td>89</td>\n",
       "      <td>415.0</td>\n",
       "      <td>410</td>\n",
       "      <td>T2</td>\n",
       "      <td>1.333333</td>\n",
       "      <td>7.0</td>\n",
       "    </tr>\n",
       "    <tr>\n",
       "      <th>2</th>\n",
       "      <td>2</td>\n",
       "      <td>43333</td>\n",
       "      <td>FL</td>\n",
       "      <td>F</td>\n",
       "      <td>2501</td>\n",
       "      <td>4.111111</td>\n",
       "      <td>725.0</td>\n",
       "      <td>301</td>\n",
       "      <td>436.0</td>\n",
       "      <td>3</td>\n",
       "      <td>18837</td>\n",
       "      <td>11</td>\n",
       "      <td>17</td>\n",
       "      <td>340.0</td>\n",
       "      <td>361</td>\n",
       "      <td>C2</td>\n",
       "      <td>0.888889</td>\n",
       "      <td>5.0</td>\n",
       "    </tr>\n",
       "    <tr>\n",
       "      <th>3</th>\n",
       "      <td>3</td>\n",
       "      <td>21885</td>\n",
       "      <td>NC</td>\n",
       "      <td>M</td>\n",
       "      <td>2208</td>\n",
       "      <td>27.277778</td>\n",
       "      <td>NaN</td>\n",
       "      <td>401</td>\n",
       "      <td>413.0</td>\n",
       "      <td>7</td>\n",
       "      <td>14014</td>\n",
       "      <td>1</td>\n",
       "      <td>74</td>\n",
       "      <td>407.0</td>\n",
       "      <td>399</td>\n",
       "      <td>T2</td>\n",
       "      <td>10.722222</td>\n",
       "      <td>38.0</td>\n",
       "    </tr>\n",
       "    <tr>\n",
       "      <th>4</th>\n",
       "      <td>4</td>\n",
       "      <td>190108</td>\n",
       "      <td>FL</td>\n",
       "      <td>F</td>\n",
       "      <td>0</td>\n",
       "      <td>6.000000</td>\n",
       "      <td>995.0</td>\n",
       "      <td>252</td>\n",
       "      <td>348.0</td>\n",
       "      <td>0</td>\n",
       "      <td>17991</td>\n",
       "      <td>5</td>\n",
       "      <td>6</td>\n",
       "      <td>280.0</td>\n",
       "      <td>316</td>\n",
       "      <td>C2</td>\n",
       "      <td>-1.000000</td>\n",
       "      <td>5.0</td>\n",
       "    </tr>\n",
       "    <tr>\n",
       "      <th>...</th>\n",
       "      <td>...</td>\n",
       "      <td>...</td>\n",
       "      <td>...</td>\n",
       "      <td>...</td>\n",
       "      <td>...</td>\n",
       "      <td>...</td>\n",
       "      <td>...</td>\n",
       "      <td>...</td>\n",
       "      <td>...</td>\n",
       "      <td>...</td>\n",
       "      <td>...</td>\n",
       "      <td>...</td>\n",
       "      <td>...</td>\n",
       "      <td>...</td>\n",
       "      <td>...</td>\n",
       "      <td>...</td>\n",
       "      <td>...</td>\n",
       "      <td>...</td>\n",
       "    </tr>\n",
       "    <tr>\n",
       "      <th>995</th>\n",
       "      <td>995</td>\n",
       "      <td>30104</td>\n",
       "      <td>GA</td>\n",
       "      <td>M</td>\n",
       "      <td>5201</td>\n",
       "      <td>8.833333</td>\n",
       "      <td>364.0</td>\n",
       "      <td>246</td>\n",
       "      <td>325.0</td>\n",
       "      <td>0</td>\n",
       "      <td>9720</td>\n",
       "      <td>0</td>\n",
       "      <td>89</td>\n",
       "      <td>307.0</td>\n",
       "      <td>287</td>\n",
       "      <td>R2</td>\n",
       "      <td>6.166667</td>\n",
       "      <td>15.0</td>\n",
       "    </tr>\n",
       "    <tr>\n",
       "      <th>996</th>\n",
       "      <td>996</td>\n",
       "      <td>154614</td>\n",
       "      <td>CA</td>\n",
       "      <td>F</td>\n",
       "      <td>0</td>\n",
       "      <td>15.000000</td>\n",
       "      <td>1709.0</td>\n",
       "      <td>511</td>\n",
       "      <td>537.0</td>\n",
       "      <td>26</td>\n",
       "      <td>15138</td>\n",
       "      <td>9</td>\n",
       "      <td>68</td>\n",
       "      <td>518.0</td>\n",
       "      <td>527</td>\n",
       "      <td>T1</td>\n",
       "      <td>5.000000</td>\n",
       "      <td>20.0</td>\n",
       "    </tr>\n",
       "    <tr>\n",
       "      <th>997</th>\n",
       "      <td>997</td>\n",
       "      <td>57151</td>\n",
       "      <td>KY</td>\n",
       "      <td>F</td>\n",
       "      <td>3601</td>\n",
       "      <td>15.900000</td>\n",
       "      <td>875.0</td>\n",
       "      <td>311</td>\n",
       "      <td>326.0</td>\n",
       "      <td>0</td>\n",
       "      <td>7746</td>\n",
       "      <td>3</td>\n",
       "      <td>29</td>\n",
       "      <td>326.0</td>\n",
       "      <td>326</td>\n",
       "      <td>R1</td>\n",
       "      <td>10.100000</td>\n",
       "      <td>26.0</td>\n",
       "    </tr>\n",
       "    <tr>\n",
       "      <th>998</th>\n",
       "      <td>998</td>\n",
       "      <td>71425</td>\n",
       "      <td>MI</td>\n",
       "      <td>M</td>\n",
       "      <td>4401</td>\n",
       "      <td>6.000000</td>\n",
       "      <td>713.0</td>\n",
       "      <td>300</td>\n",
       "      <td>364.0</td>\n",
       "      <td>0</td>\n",
       "      <td>16833</td>\n",
       "      <td>2</td>\n",
       "      <td>88</td>\n",
       "      <td>313.0</td>\n",
       "      <td>323</td>\n",
       "      <td>T2</td>\n",
       "      <td>1.000000</td>\n",
       "      <td>7.0</td>\n",
       "    </tr>\n",
       "    <tr>\n",
       "      <th>999</th>\n",
       "      <td>1001</td>\n",
       "      <td>41384</td>\n",
       "      <td>FL</td>\n",
       "      <td>F</td>\n",
       "      <td>5107</td>\n",
       "      <td>9.428571</td>\n",
       "      <td>556.0</td>\n",
       "      <td>318</td>\n",
       "      <td>352.0</td>\n",
       "      <td>0</td>\n",
       "      <td>11779</td>\n",
       "      <td>16</td>\n",
       "      <td>22</td>\n",
       "      <td>358.0</td>\n",
       "      <td>320</td>\n",
       "      <td>S3</td>\n",
       "      <td>2.571429</td>\n",
       "      <td>12.0</td>\n",
       "    </tr>\n",
       "  </tbody>\n",
       "</table>\n",
       "<p>1000 rows × 18 columns</p>\n",
       "</div>"
      ],
      "text/plain": [
       "     Unnamed: 0      id state gender   dob    avggift     hv1  \\\n",
       "0             0   44060    FL      M  1901  28.000000     NaN   \n",
       "1             1   96093    IL      M     0   5.666667   537.0   \n",
       "2             2   43333    FL      F  2501   4.111111   725.0   \n",
       "3             3   21885    NC      M  2208  27.277778     NaN   \n",
       "4             4  190108    FL      F     0   6.000000   995.0   \n",
       "..          ...     ...   ...    ...   ...        ...     ...   \n",
       "995         995   30104    GA      M  5201   8.833333   364.0   \n",
       "996         996  154614    CA      F     0  15.000000  1709.0   \n",
       "997         997   57151    KY      F  3601  15.900000   875.0   \n",
       "998         998   71425    MI      M  4401   6.000000   713.0   \n",
       "999        1001   41384    FL      F  5107   9.428571   556.0   \n",
       "\n",
       "     med_house_income  avg_fam_income  hvp1    ic5  pobc1  pobc2  \\\n",
       "0                 392           520.0     7  21975      6     16   \n",
       "1                 365           473.0     0  19387      1     89   \n",
       "2                 301           436.0     3  18837     11     17   \n",
       "3                 401           413.0     7  14014      1     74   \n",
       "4                 252           348.0     0  17991      5      6   \n",
       "..                ...             ...   ...    ...    ...    ...   \n",
       "995               246           325.0     0   9720      0     89   \n",
       "996               511           537.0    26  15138      9     68   \n",
       "997               311           326.0     0   7746      3     29   \n",
       "998               300           364.0     0  16833      2     88   \n",
       "999               318           352.0     0  11779     16     22   \n",
       "\n",
       "     med_fam_income  avg_house_income domain     profit  target_d  \n",
       "0             430.0               466     C2  72.000000     100.0  \n",
       "1             415.0               410     T2   1.333333       7.0  \n",
       "2             340.0               361     C2   0.888889       5.0  \n",
       "3             407.0               399     T2  10.722222      38.0  \n",
       "4             280.0               316     C2  -1.000000       5.0  \n",
       "..              ...               ...    ...        ...       ...  \n",
       "995           307.0               287     R2   6.166667      15.0  \n",
       "996           518.0               527     T1   5.000000      20.0  \n",
       "997           326.0               326     R1  10.100000      26.0  \n",
       "998           313.0               323     T2   1.000000       7.0  \n",
       "999           358.0               320     S3   2.571429      12.0  \n",
       "\n",
       "[1000 rows x 18 columns]"
      ]
     },
     "execution_count": 56,
     "metadata": {},
     "output_type": "execute_result"
    }
   ],
   "source": [
    "ds\n"
   ]
  },
  {
   "cell_type": "code",
   "execution_count": 58,
   "id": "322d99f4",
   "metadata": {},
   "outputs": [
    {
     "data": {
      "text/plain": [
       "Unnamed: 0                  3\n",
       "id                      21885\n",
       "state                      NC\n",
       "gender                      M\n",
       "dob                      2208\n",
       "avggift             27.277778\n",
       "hv1                       NaN\n",
       "med_house_income          401\n",
       "avg_fam_income          413.0\n",
       "hvp1                        7\n",
       "ic5                     14014\n",
       "pobc1                       1\n",
       "pobc2                      74\n",
       "med_fam_income          407.0\n",
       "avg_house_income          399\n",
       "domain                     T2\n",
       "profit              10.722222\n",
       "target_d                 38.0\n",
       "Name: 3, dtype: object"
      ]
     },
     "execution_count": 58,
     "metadata": {},
     "output_type": "execute_result"
    }
   ],
   "source": [
    "ds.iloc[3,:]"
   ]
  },
  {
   "cell_type": "code",
   "execution_count": 1,
   "id": "5e5f04df",
   "metadata": {},
   "outputs": [
    {
     "name": "stdout",
     "output_type": "stream",
     "text": [
      "\u001b[34mCommand_Line\u001b[m\u001b[m/        \u001b[34mJupyter_Notebook\u001b[m\u001b[m/    \u001b[34mProgramming_Tips\u001b[m\u001b[m/\r\n",
      "\u001b[34mConda\u001b[m\u001b[m/               \u001b[34mNumpy\u001b[m\u001b[m/               \u001b[34mPython_Basics\u001b[m\u001b[m/\r\n",
      "\u001b[34mData_Analysis_Intro\u001b[m\u001b[m/ \u001b[34mPandas\u001b[m\u001b[m/              Untitled.ipynb\r\n",
      "\u001b[34mGit_GitHub\u001b[m\u001b[m/          \u001b[34mPrework-Review\u001b[m\u001b[m/      health4all.csv\r\n"
     ]
    }
   ],
   "source": [
    "ls"
   ]
  },
  {
   "cell_type": "code",
   "execution_count": 2,
   "id": "16cba0ff",
   "metadata": {},
   "outputs": [
    {
     "name": "stdout",
     "output_type": "stream",
     "text": [
      "README.md  \u001b[34mprework\u001b[m\u001b[m/   \u001b[34mweek_1\u001b[m\u001b[m/\r\n"
     ]
    }
   ],
   "source": [
    "ls ../..\n"
   ]
  },
  {
   "cell_type": "code",
   "execution_count": 3,
   "id": "e89e6ad6",
   "metadata": {},
   "outputs": [
    {
     "name": "stdout",
     "output_type": "stream",
     "text": [
      "\u001b[34mCommand_Line\u001b[m\u001b[m/        \u001b[34mJupyter_Notebook\u001b[m\u001b[m/    \u001b[34mProgramming_Tips\u001b[m\u001b[m/\r\n",
      "\u001b[34mConda\u001b[m\u001b[m/               \u001b[34mNumpy\u001b[m\u001b[m/               \u001b[34mPython_Basics\u001b[m\u001b[m/\r\n",
      "\u001b[34mData_Analysis_Intro\u001b[m\u001b[m/ \u001b[34mPandas\u001b[m\u001b[m/              Untitled.ipynb\r\n",
      "\u001b[34mGit_GitHub\u001b[m\u001b[m/          \u001b[34mPrework-Review\u001b[m\u001b[m/      health4all.csv\r\n"
     ]
    }
   ],
   "source": [
    "ls"
   ]
  }
 ],
 "metadata": {
  "kernelspec": {
   "display_name": "Python 3 (ipykernel)",
   "language": "python",
   "name": "python3"
  },
  "language_info": {
   "codemirror_mode": {
    "name": "ipython",
    "version": 3
   },
   "file_extension": ".py",
   "mimetype": "text/x-python",
   "name": "python",
   "nbconvert_exporter": "python",
   "pygments_lexer": "ipython3",
   "version": "3.9.6"
  }
 },
 "nbformat": 4,
 "nbformat_minor": 5
}
