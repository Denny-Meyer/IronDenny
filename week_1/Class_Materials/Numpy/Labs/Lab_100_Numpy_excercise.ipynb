{
 "cells": [
  {
   "cell_type": "markdown",
   "id": "320db7bd",
   "metadata": {},
   "source": [
    "\n",
    "\n",
    "# 100 numpy exercises\n",
    "\n",
    "This is a collection of exercises that have been collected in the numpy mailing list, on stack overflow\n",
    "and in the numpy documentation. The goal of this collection is to offer a quick reference for both old\n",
    "and new users but also to provide a set of exercises for those who teach.\n",
    "\n",
    "\n",
    "If you find an error or think you've a better way to solve some of them, feel\n",
    "free to open an issue at <https://github.com/rougier/numpy-100>.\n",
    "File automatically generated. See the documentation to update questions/answers/hints programmatically.\n",
    "\n"
   ]
  },
  {
   "cell_type": "markdown",
   "id": "b2163470",
   "metadata": {},
   "source": [
    "#### 1. Import the numpy package under the name `np` (★☆☆)"
   ]
  },
  {
   "cell_type": "code",
   "execution_count": 1,
   "id": "c5494e12",
   "metadata": {},
   "outputs": [],
   "source": [
    "import numpy as np"
   ]
  },
  {
   "cell_type": "markdown",
   "id": "8ccc8082",
   "metadata": {},
   "source": [
    "#### 2. Print the numpy version and the configuration (★☆☆)"
   ]
  },
  {
   "cell_type": "code",
   "execution_count": 2,
   "id": "4bcdfdc2",
   "metadata": {},
   "outputs": [
    {
     "name": "stdout",
     "output_type": "stream",
     "text": [
      "1.21.2\n",
      "blas_mkl_info:\n",
      "    libraries = ['mkl_rt', 'pthread']\n",
      "    library_dirs = ['/opt/anaconda3/envs/DA_Enviroment/lib']\n",
      "    define_macros = [('SCIPY_MKL_H', None), ('HAVE_CBLAS', None)]\n",
      "    include_dirs = ['/opt/anaconda3/envs/DA_Enviroment/include']\n",
      "blas_opt_info:\n",
      "    libraries = ['mkl_rt', 'pthread']\n",
      "    library_dirs = ['/opt/anaconda3/envs/DA_Enviroment/lib']\n",
      "    define_macros = [('SCIPY_MKL_H', None), ('HAVE_CBLAS', None)]\n",
      "    include_dirs = ['/opt/anaconda3/envs/DA_Enviroment/include']\n",
      "lapack_mkl_info:\n",
      "    libraries = ['mkl_rt', 'pthread']\n",
      "    library_dirs = ['/opt/anaconda3/envs/DA_Enviroment/lib']\n",
      "    define_macros = [('SCIPY_MKL_H', None), ('HAVE_CBLAS', None)]\n",
      "    include_dirs = ['/opt/anaconda3/envs/DA_Enviroment/include']\n",
      "lapack_opt_info:\n",
      "    libraries = ['mkl_rt', 'pthread']\n",
      "    library_dirs = ['/opt/anaconda3/envs/DA_Enviroment/lib']\n",
      "    define_macros = [('SCIPY_MKL_H', None), ('HAVE_CBLAS', None)]\n",
      "    include_dirs = ['/opt/anaconda3/envs/DA_Enviroment/include']\n",
      "Supported SIMD extensions in this NumPy install:\n",
      "    baseline = SSE,SSE2,SSE3\n",
      "    found = SSSE3,SSE41,POPCNT,SSE42,AVX,F16C\n",
      "    not found = FMA3,AVX2,AVX512F,AVX512CD,AVX512_KNL,AVX512_SKX,AVX512_CLX,AVX512_CNL,AVX512_ICL\n",
      "None\n"
     ]
    }
   ],
   "source": [
    "print(np.__version__)\n",
    "print(np.show_config())"
   ]
  },
  {
   "cell_type": "markdown",
   "id": "92cb7997",
   "metadata": {},
   "source": [
    "#### 3. Create a null vector of size 10 (★☆☆)"
   ]
  },
  {
   "cell_type": "code",
   "execution_count": 3,
   "id": "f1ce8918",
   "metadata": {},
   "outputs": [
    {
     "data": {
      "text/plain": [
       "array([0., 0., 0., 0., 0., 0., 0., 0., 0., 0.])"
      ]
     },
     "execution_count": 3,
     "metadata": {},
     "output_type": "execute_result"
    }
   ],
   "source": [
    "np.zeros(10)"
   ]
  },
  {
   "cell_type": "markdown",
   "id": "f21c4c99",
   "metadata": {},
   "source": [
    "#### 4. How to find the memory size of any array (★☆☆)"
   ]
  },
  {
   "cell_type": "code",
   "execution_count": 4,
   "id": "9316752d",
   "metadata": {},
   "outputs": [
    {
     "name": "stdout",
     "output_type": "stream",
     "text": [
      "10\n",
      "8\n"
     ]
    }
   ],
   "source": [
    "a = np.zeros(10)\n",
    "print(a.size)\n",
    "print(a.itemsize)"
   ]
  },
  {
   "cell_type": "markdown",
   "id": "ab2f37f7",
   "metadata": {},
   "source": [
    "#### 5. How to get the documentation of the numpy add function from the command line? (★☆☆)"
   ]
  },
  {
   "cell_type": "code",
   "execution_count": 5,
   "id": "9f443214",
   "metadata": {},
   "outputs": [
    {
     "name": "stdout",
     "output_type": "stream",
     "text": [
      "add(x1, x2, /, out=None, *, where=True, casting='same_kind', order='K', dtype=None, subok=True[, signature, extobj])\n",
      "\n",
      "Add arguments element-wise.\n",
      "\n",
      "Parameters\n",
      "----------\n",
      "x1, x2 : array_like\n",
      "    The arrays to be added.\n",
      "    If ``x1.shape != x2.shape``, they must be broadcastable to a common\n",
      "    shape (which becomes the shape of the output).\n",
      "out : ndarray, None, or tuple of ndarray and None, optional\n",
      "    A location into which the result is stored. If provided, it must have\n",
      "    a shape that the inputs broadcast to. If not provided or None,\n",
      "    a freshly-allocated array is returned. A tuple (possible only as a\n",
      "    keyword argument) must have length equal to the number of outputs.\n",
      "where : array_like, optional\n",
      "    This condition is broadcast over the input. At locations where the\n",
      "    condition is True, the `out` array will be set to the ufunc result.\n",
      "    Elsewhere, the `out` array will retain its original value.\n",
      "    Note that if an uninitialized `out` array is created via the default\n",
      "    ``out=None``, locations within it where the condition is False will\n",
      "    remain uninitialized.\n",
      "**kwargs\n",
      "    For other keyword-only arguments, see the\n",
      "    :ref:`ufunc docs <ufuncs.kwargs>`.\n",
      "\n",
      "Returns\n",
      "-------\n",
      "add : ndarray or scalar\n",
      "    The sum of `x1` and `x2`, element-wise.\n",
      "    This is a scalar if both `x1` and `x2` are scalars.\n",
      "\n",
      "Notes\n",
      "-----\n",
      "Equivalent to `x1` + `x2` in terms of array broadcasting.\n",
      "\n",
      "Examples\n",
      "--------\n",
      ">>> np.add(1.0, 4.0)\n",
      "5.0\n",
      ">>> x1 = np.arange(9.0).reshape((3, 3))\n",
      ">>> x2 = np.arange(3.0)\n",
      ">>> np.add(x1, x2)\n",
      "array([[  0.,   2.,   4.],\n",
      "       [  3.,   5.,   7.],\n",
      "       [  6.,   8.,  10.]])\n",
      "\n",
      "The ``+`` operator can be used as a shorthand for ``np.add`` on ndarrays.\n",
      "\n",
      ">>> x1 = np.arange(9.0).reshape((3, 3))\n",
      ">>> x2 = np.arange(3.0)\n",
      ">>> x1 + x2\n",
      "array([[ 0.,  2.,  4.],\n",
      "       [ 3.,  5.,  7.],\n",
      "       [ 6.,  8., 10.]])\n"
     ]
    }
   ],
   "source": [
    "np.info(np.add)"
   ]
  },
  {
   "cell_type": "markdown",
   "id": "c87fab39",
   "metadata": {},
   "source": [
    "#### 6. Create a null vector of size 10 but the fifth value which is 1 (★☆☆)"
   ]
  },
  {
   "cell_type": "code",
   "execution_count": 6,
   "id": "d95ed86e",
   "metadata": {},
   "outputs": [
    {
     "name": "stdout",
     "output_type": "stream",
     "text": [
      "[0. 0. 0. 0. 1. 0. 0. 0. 0. 0.]\n"
     ]
    }
   ],
   "source": [
    "res = np.zeros(10)\n",
    "res[4] = 1\n",
    "print(res)"
   ]
  },
  {
   "cell_type": "markdown",
   "id": "b575b6a2",
   "metadata": {},
   "source": [
    "#### 7. Create a vector with values ranging from 10 to 49 (★☆☆)"
   ]
  },
  {
   "cell_type": "code",
   "execution_count": 7,
   "id": "7eff7329",
   "metadata": {},
   "outputs": [
    {
     "data": {
      "text/plain": [
       "array([10, 11, 12, 13, 14, 15, 16, 17, 18, 19, 20, 21, 22, 23, 24, 25, 26,\n",
       "       27, 28, 29, 30, 31, 32, 33, 34, 35, 36, 37, 38, 39, 40, 41, 42, 43,\n",
       "       44, 45, 46, 47, 48, 49])"
      ]
     },
     "execution_count": 7,
     "metadata": {},
     "output_type": "execute_result"
    }
   ],
   "source": [
    "np.arange(10,50)"
   ]
  },
  {
   "cell_type": "markdown",
   "id": "4345583a",
   "metadata": {},
   "source": [
    "#### 8. Reverse a vector (first element becomes last) (★☆☆)"
   ]
  },
  {
   "cell_type": "code",
   "execution_count": 8,
   "id": "d2dfe2bb",
   "metadata": {},
   "outputs": [],
   "source": [
    "res = np.arange(10,50)"
   ]
  },
  {
   "cell_type": "code",
   "execution_count": 9,
   "id": "9cd029f7",
   "metadata": {},
   "outputs": [
    {
     "data": {
      "text/plain": [
       "array([49, 48, 47, 46, 45, 44, 43, 42, 41, 40, 39, 38, 37, 36, 35, 34, 33,\n",
       "       32, 31, 30, 29, 28, 27, 26, 25, 24, 23, 22, 21, 20, 19, 18, 17, 16,\n",
       "       15, 14, 13, 12, 11, 10])"
      ]
     },
     "execution_count": 9,
     "metadata": {},
     "output_type": "execute_result"
    }
   ],
   "source": [
    "res[::-1]"
   ]
  },
  {
   "cell_type": "markdown",
   "id": "3ca9b886",
   "metadata": {},
   "source": [
    "#### 9. Create a 3x3 matrix with values ranging from 0 to 8 (★☆☆)"
   ]
  },
  {
   "cell_type": "code",
   "execution_count": 10,
   "id": "49b831f0",
   "metadata": {},
   "outputs": [
    {
     "data": {
      "text/plain": [
       "array([[0, 1, 2],\n",
       "       [3, 4, 5],\n",
       "       [6, 7, 8]])"
      ]
     },
     "execution_count": 10,
     "metadata": {},
     "output_type": "execute_result"
    }
   ],
   "source": [
    "np.arange(0,9).reshape(3,3)"
   ]
  },
  {
   "cell_type": "markdown",
   "id": "5ff620ca",
   "metadata": {},
   "source": [
    "#### 10. Find indices of non-zero elements from [1,2,0,0,4,0] (★☆☆)"
   ]
  },
  {
   "cell_type": "code",
   "execution_count": 11,
   "id": "3ec18266",
   "metadata": {},
   "outputs": [
    {
     "name": "stdout",
     "output_type": "stream",
     "text": [
      "[1 2 0 0 4 0]\n",
      "(array([0, 1, 4]),)\n"
     ]
    }
   ],
   "source": [
    "res = np.array([1,2,0,0,4,0])\n",
    "print(res)\n",
    "print(res.nonzero())"
   ]
  },
  {
   "cell_type": "markdown",
   "id": "ebd99116",
   "metadata": {},
   "source": [
    "#### 11. Create a 3x3 identity matrix (★☆☆)\n",
    "`hint: np.eye`"
   ]
  },
  {
   "cell_type": "code",
   "execution_count": 12,
   "id": "2bdca587",
   "metadata": {},
   "outputs": [
    {
     "data": {
      "text/plain": [
       "array([[1., 0., 0.],\n",
       "       [0., 1., 0.],\n",
       "       [0., 0., 1.]])"
      ]
     },
     "execution_count": 12,
     "metadata": {},
     "output_type": "execute_result"
    }
   ],
   "source": [
    "np.eye(3)"
   ]
  },
  {
   "cell_type": "markdown",
   "id": "1faa68cb",
   "metadata": {},
   "source": [
    "#### 12. Create a 3x3x3 array with random values (★☆☆)\n",
    "`hint: np.random.random`"
   ]
  },
  {
   "cell_type": "code",
   "execution_count": 13,
   "id": "f1140f3a",
   "metadata": {},
   "outputs": [
    {
     "data": {
      "text/plain": [
       "array([[0.79986289, 0.88642446, 0.0651542 ],\n",
       "       [0.68124788, 0.13943149, 0.23813824],\n",
       "       [0.01534693, 0.87833617, 0.85808799]])"
      ]
     },
     "execution_count": 13,
     "metadata": {},
     "output_type": "execute_result"
    }
   ],
   "source": [
    "np.random.random(9).reshape(3,3)"
   ]
  },
  {
   "cell_type": "markdown",
   "id": "fad40cd0",
   "metadata": {},
   "source": [
    "#### 13. Create a 10x10 array with random values and find the minimum and maximum values (★☆☆)\n",
    "`hint: min, max`"
   ]
  },
  {
   "cell_type": "code",
   "execution_count": 14,
   "id": "35abdf5d",
   "metadata": {},
   "outputs": [
    {
     "name": "stdout",
     "output_type": "stream",
     "text": [
      "min: 0.002428734360160112 max: 0.9990794190469667\n"
     ]
    }
   ],
   "source": [
    "res = np.random.random(100)\n",
    "print(\"min:\",res.min(),\"max:\",res.max())"
   ]
  },
  {
   "cell_type": "markdown",
   "id": "6c8feb7f",
   "metadata": {},
   "source": [
    "#### 14. Create a random vector of size 30 and find the mean value (★☆☆)\n",
    "`hint: mean`"
   ]
  },
  {
   "cell_type": "code",
   "execution_count": 15,
   "id": "f01af881",
   "metadata": {},
   "outputs": [
    {
     "data": {
      "text/plain": [
       "0.5018062624440693"
      ]
     },
     "execution_count": 15,
     "metadata": {},
     "output_type": "execute_result"
    }
   ],
   "source": [
    "res = np.random.random(30)\n",
    "res.mean()"
   ]
  },
  {
   "cell_type": "markdown",
   "id": "3cc42629",
   "metadata": {},
   "source": [
    "#### 15. Create a 2d array with 1 on the border and 0 inside (★☆☆)\n",
    "`hint: array[1:-1, 1:-1]`"
   ]
  },
  {
   "cell_type": "code",
   "execution_count": 16,
   "id": "54b6efc7",
   "metadata": {},
   "outputs": [
    {
     "name": "stdout",
     "output_type": "stream",
     "text": [
      "[[1. 1. 1. 1.]\n",
      " [1. 1. 1. 1.]\n",
      " [1. 1. 1. 1.]\n",
      " [1. 1. 1. 1.]]\n",
      "\n",
      "[[1. 1. 1. 1.]\n",
      " [1. 0. 0. 1.]\n",
      " [1. 0. 0. 1.]\n",
      " [1. 1. 1. 1.]]\n"
     ]
    }
   ],
   "source": [
    "res = np.ones(16).reshape(4,4)\n",
    "print(res)\n",
    "res[1:-1, 1:-1] = 0\n",
    "print();print(res)"
   ]
  },
  {
   "cell_type": "markdown",
   "id": "17d73d46",
   "metadata": {},
   "source": [
    "#### 16. How to add a border (filled with 0's) around an existing array? (★☆☆)\n",
    "`hint: np.pad`"
   ]
  },
  {
   "cell_type": "code",
   "execution_count": 17,
   "id": "5bb0bfef",
   "metadata": {},
   "outputs": [
    {
     "name": "stdout",
     "output_type": "stream",
     "text": [
      "[[ 0  1  2]\n",
      " [ 3  4  5]\n",
      " [ 6  7  8]\n",
      " [ 9 10 11]]\n"
     ]
    },
    {
     "data": {
      "text/plain": [
       "array([[ 0,  0,  0,  0,  0],\n",
       "       [ 0,  0,  1,  2,  0],\n",
       "       [ 0,  3,  4,  5,  0],\n",
       "       [ 0,  6,  7,  8,  0],\n",
       "       [ 0,  9, 10, 11,  0],\n",
       "       [ 0,  0,  0,  0,  0]])"
      ]
     },
     "execution_count": 17,
     "metadata": {},
     "output_type": "execute_result"
    }
   ],
   "source": [
    "res = np.arange(12).reshape(4,3)\n",
    "print(res)\n",
    "#np.info(np.pad)\n",
    "np.pad(res,(1,1))"
   ]
  },
  {
   "cell_type": "markdown",
   "id": "a14b8e3f",
   "metadata": {},
   "source": [
    "#### 17. What is the result of the following expression? (★☆☆)\n",
    "```python\n",
    "0 * np.nan\n",
    "np.nan == np.nan\n",
    "np.inf > np.nan\n",
    "np.nan - np.nan\n",
    "np.nan in set([np.nan])\n",
    "0.3 == 3 * 0.1\n",
    "```\n",
    "`hint: NaN = not a number, inf = infinity`"
   ]
  },
  {
   "cell_type": "code",
   "execution_count": 18,
   "id": "c2a9097f",
   "metadata": {},
   "outputs": [
    {
     "name": "stdout",
     "output_type": "stream",
     "text": [
      "nan\n",
      "False\n",
      "False\n",
      "nan\n",
      "True\n",
      "0.30000000000000004\n",
      "False\n",
      "0.30000000000000004\n"
     ]
    }
   ],
   "source": [
    "print(0 * np.nan)\n",
    "print(np.nan == np.nan)\n",
    "print(np.inf > np.nan)\n",
    "print(np.nan - np.nan)\n",
    "print(np.nan in set([np.nan]))\n",
    "\n",
    "d = 0.0\n",
    "d += 3*0.100\n",
    "print(d)\n",
    "print(float(0.3) == float(3 * 0.100))\n",
    "num = 3*0.1\n",
    "\n",
    "# float precision error\n",
    "\n",
    "res = np.multiply(3, 0.1)\n",
    "0.3 == res\n",
    "print(res)"
   ]
  },
  {
   "cell_type": "markdown",
   "id": "b9251a0e",
   "metadata": {},
   "source": [
    "#### 18. Create a 5x5 matrix with values 1,2,3,4 just below the diagonal (★☆☆)\n",
    "`hint: np.diag`"
   ]
  },
  {
   "cell_type": "code",
   "execution_count": 19,
   "id": "d0c3fa37",
   "metadata": {},
   "outputs": [
    {
     "data": {
      "text/plain": [
       "array([[0, 0, 0, 0, 0],\n",
       "       [1, 0, 0, 0, 0],\n",
       "       [0, 2, 0, 0, 0],\n",
       "       [0, 0, 3, 0, 0],\n",
       "       [0, 0, 0, 4, 0]])"
      ]
     },
     "execution_count": 19,
     "metadata": {},
     "output_type": "execute_result"
    }
   ],
   "source": [
    "np.diag([1,2,3,4],-1)"
   ]
  },
  {
   "cell_type": "markdown",
   "id": "4d579105",
   "metadata": {},
   "source": [
    "#### 19. Create a 8x8 matrix and fill it with a checkerboard pattern (★☆☆)\n",
    "`hint: array[::2]`"
   ]
  },
  {
   "cell_type": "code",
   "execution_count": 20,
   "id": "6e2cc76e",
   "metadata": {},
   "outputs": [
    {
     "name": "stdout",
     "output_type": "stream",
     "text": [
      "[[1. 0. 1. 0. 1. 0. 1. 0.]\n",
      " [0. 1. 0. 1. 0. 1. 0. 1.]\n",
      " [1. 0. 1. 0. 1. 0. 1. 0.]\n",
      " [0. 1. 0. 1. 0. 1. 0. 1.]\n",
      " [1. 0. 1. 0. 1. 0. 1. 0.]\n",
      " [0. 1. 0. 1. 0. 1. 0. 1.]\n",
      " [1. 0. 1. 0. 1. 0. 1. 0.]\n",
      " [0. 1. 0. 1. 0. 1. 0. 1.]]\n"
     ]
    }
   ],
   "source": [
    "res = np.zeros((8,8))\n",
    "# take from first row until last row and first column until last column each second element and place a one\n",
    "# res[row, column]\n",
    "res[::2,::2] = 1 \n",
    "# take from second row until last row and second column until last column each second element and place a one\n",
    "res[1::2,1::2] = 1\n",
    "print(res)"
   ]
  },
  {
   "cell_type": "markdown",
   "id": "fa62ec72",
   "metadata": {},
   "source": [
    "#### 20. Consider a (6,7,8) shape array, what is the index (x,y,z) of the 100th element? (★☆☆)\n",
    "`hint: np.unravel_index`"
   ]
  },
  {
   "cell_type": "code",
   "execution_count": 21,
   "id": "30be64c1",
   "metadata": {},
   "outputs": [
    {
     "name": "stdout",
     "output_type": "stream",
     "text": [
      "336\n"
     ]
    },
    {
     "data": {
      "text/plain": [
       "(1, 5, 4)"
      ]
     },
     "execution_count": 21,
     "metadata": {},
     "output_type": "execute_result"
    }
   ],
   "source": [
    "res = np.zeros((6,7,8))\n",
    "#print(res)\n",
    "print(res.size)\n",
    "#np.info(np.unravel_index)\n",
    "np.unravel_index(100, (6,7,8))"
   ]
  },
  {
   "cell_type": "markdown",
   "id": "863006c9",
   "metadata": {},
   "source": [
    "#### 21. Create a checkerboard 8x8 matrix using the tile function (★☆☆)\n",
    "`hint: np.tile`"
   ]
  },
  {
   "cell_type": "code",
   "execution_count": 22,
   "id": "78162aeb",
   "metadata": {},
   "outputs": [
    {
     "name": "stdout",
     "output_type": "stream",
     "text": [
      "[[1. 0.]\n",
      " [0. 1.]]\n"
     ]
    },
    {
     "data": {
      "text/plain": [
       "array([[1, 0, 1, 0, 1, 0, 1, 0],\n",
       "       [0, 1, 0, 1, 0, 1, 0, 1],\n",
       "       [1, 0, 1, 0, 1, 0, 1, 0],\n",
       "       [0, 1, 0, 1, 0, 1, 0, 1],\n",
       "       [1, 0, 1, 0, 1, 0, 1, 0],\n",
       "       [0, 1, 0, 1, 0, 1, 0, 1],\n",
       "       [1, 0, 1, 0, 1, 0, 1, 0],\n",
       "       [0, 1, 0, 1, 0, 1, 0, 1]])"
      ]
     },
     "execution_count": 22,
     "metadata": {},
     "output_type": "execute_result"
    }
   ],
   "source": [
    "#np.info(np.tile)\n",
    "# create pattern \n",
    "a = np.eye(2)\n",
    "print(a)\n",
    "\n",
    "# repeat pattern 4 times in x and y direction\n",
    "#res = np.tile(a,(4,4))\n",
    "#print(res)\n",
    "\n",
    "# in one line\n",
    "np.tile(np.eye(2, dtype=int), (4,4))"
   ]
  },
  {
   "cell_type": "markdown",
   "id": "acaf594a",
   "metadata": {},
   "source": [
    "#### 22. Normalize a 5x5 random matrix (★☆☆)\n",
    "`hint: (x -mean)/std`"
   ]
  },
  {
   "cell_type": "code",
   "execution_count": 23,
   "id": "3296a6e6",
   "metadata": {},
   "outputs": [
    {
     "name": "stdout",
     "output_type": "stream",
     "text": [
      "[[0.89139086 0.94138542 0.41025528 0.97832349 0.55463635]\n",
      " [0.85826678 0.6691544  0.38010822 0.61086806 0.5196632 ]\n",
      " [0.56912454 0.89331124 0.48614412 0.75885929 0.92711993]\n",
      " [0.43651459 0.91902567 0.49253224 0.2351523  0.45683364]\n",
      " [0.61486197 0.17244565 0.0506892  0.81915442 0.1403478 ]]\n",
      "mean 0.5914467471281895\n",
      "std 0.26661979455425716\n"
     ]
    },
    {
     "data": {
      "text/plain": [
       "0.9999999999999999"
      ]
     },
     "execution_count": 23,
     "metadata": {},
     "output_type": "execute_result"
    }
   ],
   "source": [
    "res = np.random.random((5,5))\n",
    "mean = np.mean(res)\n",
    "std = np.std(res)#, ddof=1)\n",
    "print(res)\n",
    "print('mean',mean)\n",
    "print('std',std)\n",
    "\n",
    "r = (res -mean)/std\n",
    "np.std(r)"
   ]
  },
  {
   "cell_type": "code",
   "execution_count": null,
   "id": "3fc59aff",
   "metadata": {},
   "outputs": [],
   "source": []
  },
  {
   "cell_type": "markdown",
   "id": "c02dade0",
   "metadata": {},
   "source": [
    "#### 23. Create a custom dtype that describes a color as four unsigned bytes (RGBA) (★☆☆)\n",
    "`hint: np.dtype`"
   ]
  },
  {
   "cell_type": "code",
   "execution_count": 24,
   "id": "d414f90b",
   "metadata": {},
   "outputs": [],
   "source": [
    "# create datatype\n",
    "# np.ubyte works as uint8\n",
    "# or you can use 'B' as uint8\n",
    "#color = np.dtype([('r', np.ubyte),('g', 'B'),('b', np.ubyte), ('a', np.ubyte)])\n",
    "\n",
    "# short version '4*type uint8 as B'\n",
    "color = np.dtype('4B')\n"
   ]
  },
  {
   "cell_type": "code",
   "execution_count": 25,
   "id": "1a3df733",
   "metadata": {},
   "outputs": [
    {
     "data": {
      "text/plain": [
       "dtype(('u1', (4,)))"
      ]
     },
     "execution_count": 25,
     "metadata": {},
     "output_type": "execute_result"
    }
   ],
   "source": [
    "# show data type\n",
    "color"
   ]
  },
  {
   "cell_type": "code",
   "execution_count": 26,
   "id": "26aa9cd0",
   "metadata": {},
   "outputs": [
    {
     "data": {
      "text/plain": [
       "array([[[0, 0, 0, 0],\n",
       "        [0, 0, 0, 0]],\n",
       "\n",
       "       [[0, 0, 0, 0],\n",
       "        [0, 0, 0, 0]]], dtype=uint8)"
      ]
     },
     "execution_count": 26,
     "metadata": {},
     "output_type": "execute_result"
    }
   ],
   "source": [
    "# create test array with given data type\n",
    "res = np.zeros((2,2), dtype=color)\n",
    "res"
   ]
  },
  {
   "cell_type": "code",
   "execution_count": 27,
   "id": "230b0e5a",
   "metadata": {},
   "outputs": [],
   "source": [
    "# set value in create array\n",
    "res[0,0] = (1,0,1,0)"
   ]
  },
  {
   "cell_type": "code",
   "execution_count": 28,
   "id": "cb4d84b4",
   "metadata": {},
   "outputs": [
    {
     "data": {
      "text/plain": [
       "array([[[1, 0, 1, 0],\n",
       "        [0, 0, 0, 0]],\n",
       "\n",
       "       [[0, 0, 0, 0],\n",
       "        [0, 0, 0, 0]]], dtype=uint8)"
      ]
     },
     "execution_count": 28,
     "metadata": {},
     "output_type": "execute_result"
    }
   ],
   "source": [
    "res"
   ]
  },
  {
   "cell_type": "markdown",
   "id": "2a183b90",
   "metadata": {},
   "source": [
    "#### 24. Multiply a 5x3 matrix by a 3x2 matrix (real matrix product) (★☆☆)\n",
    "`hint:`"
   ]
  },
  {
   "cell_type": "code",
   "execution_count": 29,
   "id": "b5725801",
   "metadata": {},
   "outputs": [],
   "source": [
    "a = np.random.random((5,3))\n",
    "b = np.random.random((3,2))"
   ]
  },
  {
   "cell_type": "code",
   "execution_count": 30,
   "id": "fa0ddc88",
   "metadata": {},
   "outputs": [
    {
     "data": {
      "text/plain": [
       "(array([[0.32580943, 0.68908188, 0.21258419],\n",
       "        [0.73263617, 0.78411637, 0.22180145],\n",
       "        [0.30803278, 0.24015686, 0.28271546],\n",
       "        [0.09246326, 0.38008269, 0.45292307],\n",
       "        [0.09115454, 0.15454044, 0.12187468]]),\n",
       " array([[0.35866195, 0.95981539],\n",
       "        [0.71958952, 0.97975788],\n",
       "        [0.76186591, 0.1296468 ]]))"
      ]
     },
     "execution_count": 30,
     "metadata": {},
     "output_type": "execute_result"
    }
   ],
   "source": [
    "a, b"
   ]
  },
  {
   "cell_type": "code",
   "execution_count": 31,
   "id": "46820cc8",
   "metadata": {},
   "outputs": [
    {
     "data": {
      "text/plain": [
       "array([[0.77467219, 1.01541116],\n",
       "       [0.9959936 , 1.50019551],\n",
       "       [0.49868527, 0.56760333],\n",
       "       [0.65173323, 0.5198567 ],\n",
       "       [0.23675151, 0.25470441]])"
      ]
     },
     "execution_count": 31,
     "metadata": {},
     "output_type": "execute_result"
    }
   ],
   "source": [
    "np.dot(a,b)"
   ]
  },
  {
   "cell_type": "markdown",
   "id": "ced1b2f9",
   "metadata": {},
   "source": [
    "#### 25. Given a 1D array, negate all elements which are between 3 and 8, in place. (★☆☆)\n",
    "`hint: >, <`\n",
    "    "
   ]
  },
  {
   "cell_type": "code",
   "execution_count": 32,
   "id": "5be49537",
   "metadata": {},
   "outputs": [],
   "source": [
    "res = np.arange(0,15)"
   ]
  },
  {
   "cell_type": "code",
   "execution_count": 33,
   "id": "3a04c1da",
   "metadata": {},
   "outputs": [
    {
     "data": {
      "text/plain": [
       "array([ 0,  1,  2,  3,  4,  5,  6,  7,  8,  9, 10, 11, 12, 13, 14])"
      ]
     },
     "execution_count": 33,
     "metadata": {},
     "output_type": "execute_result"
    }
   ],
   "source": [
    "res"
   ]
  },
  {
   "cell_type": "code",
   "execution_count": 34,
   "id": "b979ee47",
   "metadata": {},
   "outputs": [
    {
     "data": {
      "text/plain": [
       "array([ True,  True,  True, False, False, False, False, False, False,\n",
       "       False, False, False, False, False, False])"
      ]
     },
     "execution_count": 34,
     "metadata": {},
     "output_type": "execute_result"
    }
   ],
   "source": [
    "(res<3)"
   ]
  },
  {
   "cell_type": "code",
   "execution_count": 35,
   "id": "f4ae3c0c",
   "metadata": {},
   "outputs": [],
   "source": [
    "mask = (res)"
   ]
  },
  {
   "cell_type": "markdown",
   "id": "c0a925dc",
   "metadata": {},
   "source": [
    "#### 26. What is the output of the following script? (★☆☆)\n",
    "```python\n",
    "# Author: Jake VanderPlas\n",
    "\n",
    "print(sum(range(5),-1))\n",
    "from numpy import *\n",
    "print(sum(range(5),-1))\n",
    "```\n",
    "`hint: np.sum`\n",
    "    "
   ]
  },
  {
   "cell_type": "code",
   "execution_count": 36,
   "id": "98224daf",
   "metadata": {},
   "outputs": [
    {
     "name": "stdout",
     "output_type": "stream",
     "text": [
      "0\n",
      "1\n",
      "2\n",
      "3\n",
      "4\n"
     ]
    }
   ],
   "source": [
    "x = sum(range(5), -1)\n",
    "for i in range(5):\n",
    "    print(i)"
   ]
  },
  {
   "cell_type": "code",
   "execution_count": 37,
   "id": "88f850b8",
   "metadata": {},
   "outputs": [
    {
     "data": {
      "text/plain": [
       "9"
      ]
     },
     "execution_count": 37,
     "metadata": {},
     "output_type": "execute_result"
    }
   ],
   "source": [
    "x"
   ]
  },
  {
   "cell_type": "code",
   "execution_count": 38,
   "id": "ef369f97",
   "metadata": {},
   "outputs": [],
   "source": [
    "import numpy as np\n",
    "y = np.sum(range(5), -1)"
   ]
  },
  {
   "cell_type": "code",
   "execution_count": 39,
   "id": "c91f84ba",
   "metadata": {},
   "outputs": [
    {
     "data": {
      "text/plain": [
       "10"
      ]
     },
     "execution_count": 39,
     "metadata": {},
     "output_type": "execute_result"
    }
   ],
   "source": [
    "y"
   ]
  },
  {
   "cell_type": "code",
   "execution_count": 40,
   "id": "042b373b",
   "metadata": {},
   "outputs": [
    {
     "name": "stdout",
     "output_type": "stream",
     "text": [
      "9\n",
      "10\n"
     ]
    }
   ],
   "source": [
    "print(sum(range(5),-1))\n",
    "from numpy import *\n",
    "print(sum(range(5),-1))"
   ]
  },
  {
   "cell_type": "markdown",
   "id": "d9c4f99e",
   "metadata": {},
   "source": [
    "#### 27. Consider an integer vector Z, which of these expressions are legal? (★☆☆)\n",
    "```python\n",
    "Z**Z\n",
    "2 << Z >> 2\n",
    "Z <- Z\n",
    "1j*Z\n",
    "Z/1/1\n",
    "Z<Z>Z\n",
    "```\n",
    "`No hints provided...`"
   ]
  },
  {
   "cell_type": "code",
   "execution_count": 44,
   "id": "9cad7216",
   "metadata": {},
   "outputs": [
    {
     "data": {
      "text/plain": [
       "4"
      ]
     },
     "execution_count": 44,
     "metadata": {},
     "output_type": "execute_result"
    }
   ],
   "source": [
    "z=2\n",
    "\n",
    "z**z # true\n"
   ]
  },
  {
   "cell_type": "markdown",
   "metadata": {},
   "source": [
    "#### 28. What are the result of the following expressions? (★☆☆)\n",
    "```python\n",
    "np.array(0) / np.array(0)\n",
    "np.array(0) // np.array(0)\n",
    "np.array([np.nan]).astype(int).astype(float)\n",
    "```\n",
    "`No hints provided...`\n",
    "\n"
   ]
  },
  {
   "cell_type": "code",
   "execution_count": null,
   "metadata": {},
   "outputs": [],
   "source": []
  },
  {
   "cell_type": "code",
   "execution_count": null,
   "metadata": {},
   "outputs": [],
   "source": [
    "\n",
    "\n",
    "#### 29. How to round away from zero a float array ? (★☆☆)\n",
    "`hint: np.uniform, np.copysign, np.ceil, np.abs, np.where`\n",
    "#### 30. How to find common values between two arrays? (★☆☆)\n",
    "`hint: np.intersect1d`\n",
    "#### 31. How to ignore all numpy warnings (not recommended)? (★☆☆)\n",
    "`hint: np.seterr, np.errstate`\n",
    "#### 32. Is the following expressions true? (★☆☆)\n",
    "```python\n",
    "np.sqrt(-1) == np.emath.sqrt(-1)\n",
    "```\n",
    "`hint: imaginary number`\n",
    "#### 33. How to get the dates of yesterday, today and tomorrow? (★☆☆)\n",
    "`hint: np.datetime64, np.timedelta64`\n",
    "#### 34. How to get all the dates corresponding to the month of July 2016? (★★☆)\n",
    "`hint: np.arange(dtype=datetime64['D'])`\n",
    "#### 35. How to compute ((A+B)*(-A/2)) in place (without copy)? (★★☆)\n",
    "`hint: np.add(out=), np.negative(out=), np.multiply(out=), np.divide(out=)`\n",
    "#### 36. Extract the integer part of a random array of positive numbers using 4 different methods (★★☆)\n",
    "`hint: %, np.floor, astype, np.trunc`\n",
    "#### 37. Create a 5x5 matrix with row values ranging from 0 to 4 (★★☆)\n",
    "`hint: np.arange`\n",
    "#### 38. Consider a generator function that generates 10 integers and use it to build an array (★☆☆)\n",
    "`hint: np.fromiter`\n",
    "#### 39. Create a vector of size 10 with values ranging from 0 to 1, both excluded (★★☆)\n",
    "`hint: np.linspace`\n",
    "#### 40. Create a random vector of size 10 and sort it (★★☆)\n",
    "`hint: sort`\n",
    "#### 41. How to sum a small array faster than np.sum? (★★☆)\n",
    "`hint: np.add.reduce`\n",
    "#### 42. Consider two random array A and B, check if they are equal (★★☆)\n",
    "`hint: np.allclose, np.array_equal`\n",
    "#### 43. Make an array immutable (read-only) (★★☆)\n",
    "`hint: flags.writeable`\n",
    "#### 44. Consider a random 10x2 matrix representing cartesian coordinates, convert them to polar coordinates (★★☆)\n",
    "`hint: np.sqrt, np.arctan2`\n",
    "#### 45. Create random vector of size 10 and replace the maximum value by 0 (★★☆)\n",
    "`hint: argmax`\n",
    "#### 46. Create a structured array with `x` and `y` coordinates covering the [0,1]x[0,1] area (★★☆)\n",
    "`hint: np.meshgrid`\n",
    "#### 47. Given two arrays, X and Y, construct the Cauchy matrix C (Cij =1/(xi - yj)) (★★☆)\n",
    "`hint: np.subtract.outer`\n",
    "#### 48. Print the minimum and maximum representable value for each numpy scalar type (★★☆)\n",
    "`hint: np.iinfo, np.finfo, eps`\n",
    "#### 49. How to print all the values of an array? (★★☆)\n",
    "`hint: np.set_printoptions`\n",
    "#### 50. How to find the closest value (to a given scalar) in a vector? (★★☆)\n",
    "`hint: argmin`\n",
    "#### 51. Create a structured array representing a position (x,y) and a color (r,g,b) (★★☆)\n",
    "`hint: dtype`\n",
    "#### 52. Consider a random vector with shape (100,2) representing coordinates, find point by point distances (★★☆)\n",
    "`hint: np.atleast_2d, T, np.sqrt`\n",
    "#### 53. How to convert a float (32 bits) array into an integer (32 bits) in place?\n",
    "`hint: view and [:] =`\n",
    "#### 54. How to read the following file? (★★☆)\n",
    "```\n",
    "1, 2, 3, 4, 5\n",
    "6,  ,  , 7, 8\n",
    " ,  , 9,10,11\n",
    "```\n",
    "`hint: np.genfromtxt`\n",
    "#### 55. What is the equivalent of enumerate for numpy arrays? (★★☆)\n",
    "`hint: np.ndenumerate, np.ndindex`\n",
    "#### 56. Generate a generic 2D Gaussian-like array (★★☆)\n",
    "`hint: np.meshgrid, np.exp`\n",
    "#### 57. How to randomly place p elements in a 2D array? (★★☆)\n",
    "`hint: np.put, np.random.choice`\n",
    "#### 58. Subtract the mean of each row of a matrix (★★☆)\n",
    "`hint: mean(axis=,keepdims=)`\n",
    "#### 59. How to sort an array by the nth column? (★★☆)\n",
    "`hint: argsort`\n",
    "#### 60. How to tell if a given 2D array has null columns? (★★☆)\n",
    "`hint: any, ~`\n",
    "#### 61. Find the nearest value from a given value in an array (★★☆)\n",
    "`hint: np.abs, argmin, flat`\n",
    "#### 62. Considering two arrays with shape (1,3) and (3,1), how to compute their sum using an iterator? (★★☆)\n",
    "`hint: np.nditer`\n",
    "#### 63. Create an array class that has a name attribute (★★☆)\n",
    "`hint: class method`\n",
    "#### 64. Consider a given vector, how to add 1 to each element indexed by a second vector (be careful with repeated indices)? (★★★)\n",
    "`hint: np.bincount | np.add.at`\n",
    "#### 65. How to accumulate elements of a vector (X) to an array (F) based on an index list (I)? (★★★)\n",
    "`hint: np.bincount`\n",
    "#### 66. Considering a (w,h,3) image of (dtype=ubyte), compute the number of unique colors (★★☆)\n",
    "`hint: np.unique`\n",
    "#### 67. Considering a four dimensions array, how to get sum over the last two axis at once? (★★★)\n",
    "`hint: sum(axis=(-2,-1))`\n",
    "#### 68. Considering a one-dimensional vector D, how to compute means of subsets of D using a vector S of same size describing subset  indices? (★★★)\n",
    "`hint: np.bincount`\n",
    "#### 69. How to get the diagonal of a dot product? (★★★)\n",
    "`hint: np.diag`\n",
    "#### 70. Consider the vector [1, 2, 3, 4, 5], how to build a new vector with 3 consecutive zeros interleaved between each value? (★★★)\n",
    "`hint: array[::4]`\n",
    "#### 71. Consider an array of dimension (5,5,3), how to mulitply it by an array with dimensions (5,5)? (★★★)\n",
    "`hint: array[:, :, None]`\n",
    "#### 72. How to swap two rows of an array? (★★★)\n",
    "`hint: array[[]] = array[[]]`\n",
    "#### 73. Consider a set of 10 triplets describing 10 triangles (with shared vertices), find the set of unique line segments composing all the  triangles (★★★)\n",
    "`hint: repeat, np.roll, np.sort, view, np.unique`\n",
    "#### 74. Given a sorted array C that corresponds to a bincount, how to produce an array A such that np.bincount(A) == C? (★★★)\n",
    "`hint: np.repeat`\n",
    "#### 75. How to compute averages using a sliding window over an array? (★★★)\n",
    "`hint: np.cumsum`\n",
    "#### 76. Consider a one-dimensional array Z, build a two-dimensional array whose first row is (Z[0],Z[1],Z[2]) and each subsequent row is  shifted by 1 (last row should be (Z[-3],Z[-2],Z[-1]) (★★★)\n",
    "`hint: from numpy.lib import stride_tricks`\n",
    "#### 77. How to negate a boolean, or to change the sign of a float inplace? (★★★)\n",
    "`hint: np.logical_not, np.negative`\n",
    "#### 78. Consider 2 sets of points P0,P1 describing lines (2d) and a point p, how to compute distance from p to each line i (P0[i],P1[i])? (★★★)\n",
    "`No hints provided...`\n",
    "#### 79. Consider 2 sets of points P0,P1 describing lines (2d) and a set of points P, how to compute distance from each point j (P[j]) to each line i (P0[i],P1[i])? (★★★)\n",
    "`No hints provided...`\n",
    "#### 80. Consider an arbitrary array, write a function that extract a subpart with a fixed shape and centered on a given element (pad with a `fill` value when necessary) (★★★)\n",
    "`hint: minimum maximum`\n",
    "#### 81. Consider an array Z = [1,2,3,4,5,6,7,8,9,10,11,12,13,14], how to generate an array R = [[1,2,3,4], [2,3,4,5], [3,4,5,6], ..., [11,12,13,14]]? (★★★)\n",
    "`hint: stride_tricks.as_strided`\n",
    "#### 82. Compute a matrix rank (★★★)\n",
    "`hint: np.linalg.svd`\n",
    "#### 83. How to find the most frequent value in an array?\n",
    "`hint: np.bincount, argmax`\n",
    "#### 84. Extract all the contiguous 3x3 blocks from a random 10x10 matrix (★★★)\n",
    "`hint: stride_tricks.as_strided`\n",
    "#### 85. Create a 2D array subclass such that Z[i,j] == Z[j,i] (★★★)\n",
    "`hint: class method`\n",
    "#### 86. Consider a set of p matrices wich shape (n,n) and a set of p vectors with shape (n,1). How to compute the sum of of the p matrix products at once? (result has shape (n,1)) (★★★)\n",
    "`hint: np.tensordot`\n",
    "#### 87. Consider a 16x16 array, how to get the block-sum (block size is 4x4)? (★★★)\n",
    "`hint: np.add.reduceat`\n",
    "#### 88. How to implement the Game of Life using numpy arrays? (★★★)\n",
    "`No hints provided...`\n",
    "#### 89. How to get the n largest values of an array (★★★)\n",
    "`hint: np.argsort | np.argpartition`\n",
    "#### 90. Given an arbitrary number of vectors, build the cartesian product (every combinations of every item) (★★★)\n",
    "`hint: np.indices`\n",
    "#### 91. How to create a record array from a regular array? (★★★)\n",
    "`hint: np.core.records.fromarrays`\n",
    "#### 92. Consider a large vector Z, compute Z to the power of 3 using 3 different methods (★★★)\n",
    "`hint: np.power, *, np.einsum`\n",
    "#### 93. Consider two arrays A and B of shape (8,3) and (2,2). How to find rows of A that contain elements of each row of B regardless of the order of the elements in B? (★★★)\n",
    "`hint: np.where`\n",
    "#### 94. Considering a 10x3 matrix, extract rows with unequal values (e.g. [2,2,3]) (★★★)\n",
    "`No hints provided...`\n",
    "#### 95. Convert a vector of ints into a matrix binary representation (★★★)\n",
    "`hint: np.unpackbits`\n",
    "#### 96. Given a two dimensional array, how to extract unique rows? (★★★)\n",
    "`hint: np.ascontiguousarray | np.unique`\n",
    "#### 97. Considering 2 vectors A & B, write the einsum equivalent of inner, outer, sum, and mul function (★★★)\n",
    "`hint: np.einsum`\n",
    "#### 98. Considering a path described by two vectors (X,Y), how to sample it using equidistant samples (★★★)?\n",
    "`hint: np.cumsum, np.interp`\n",
    "#### 99. Given an integer n and a 2D array X, select from X the rows which can be interpreted as draws from a multinomial distribution with n degrees, i.e., the rows which only contain integers and which sum to n. (★★★)\n",
    "`hint: np.logical_and.reduce, np.mod`\n",
    "#### 100. Compute bootstrapped 95% confidence intervals for the mean of a 1D array X (i.e., resample the elements of an array with replacement N times, compute the mean of each sample, and then compute percentiles over the means). (★★★)\n",
    "`hint: np.percentile`"
   ]
  }
 ],
 "metadata": {
  "interpreter": {
   "hash": "1fbb94b493f4a2be40eeededea278266a31d2929b69a0d694da97e233e8112ca"
  },
  "kernelspec": {
   "display_name": "Python 3.9.6 64-bit ('DA_Enviroment': conda)",
   "name": "python3"
  },
  "language_info": {
   "codemirror_mode": {
    "name": "ipython",
    "version": 3
   },
   "file_extension": ".py",
   "mimetype": "text/x-python",
   "name": "python",
   "nbconvert_exporter": "python",
   "pygments_lexer": "ipython3",
   "version": "3.9.6"
  }
 },
 "nbformat": 4,
 "nbformat_minor": 5
}
