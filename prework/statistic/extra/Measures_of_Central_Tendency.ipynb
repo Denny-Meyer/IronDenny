{
 "cells": [
  {
   "cell_type": "code",
   "execution_count": 2,
   "id": "72d3ce5a",
   "metadata": {},
   "outputs": [],
   "source": [
    "data = [4, 7, 5, 9, 8, 6, 7, 7, 8, 5, 6, 9, 8, 5, 8, 7, 4, 7, 3, 6, 8, 9, 7, 6, 9]"
   ]
  },
  {
   "cell_type": "raw",
   "id": "baeef0ad",
   "metadata": {},
   "source": [
    "1.3 To find which statistic do you have to arrange the data in an ascending order?\n",
    "\n",
    "- yes\n",
    "\n",
    "1.4 How do you find the median when there are even number of data points?\n",
    "\n",
    "- x = (data[n/2] + data[n/2 + 1]) / 2  \n",
    "\n",
    "1.5 What are outliers in a dataset? Which of the three - Mean, Median, and Mode - is more susceptible to change with presence of outliers in the data?\n",
    "\n",
    "- outliner are spikes in the datas, Mean receive the most changes with spikes as is using the sum of all values"
   ]
  },
  {
   "cell_type": "code",
   "execution_count": 7,
   "id": "1ec8cbdc",
   "metadata": {},
   "outputs": [
    {
     "name": "stdout",
     "output_type": "stream",
     "text": [
      "mean:  6.72\n",
      "median:  7\n",
      "mode:  7\n",
      "{'mean': 6.72, 'median': 7, 'mode': 7}\n"
     ]
    }
   ],
   "source": [
    "import statistics as stats\n",
    " \n",
    "print(\"mean: \" , stats.mean(data))\n",
    "print(\"median: \", stats.median(data))\n",
    "print(\"mode: \", stats.mode(data))\n",
    " \n",
    "data_dictionary = {}\n",
    "data_dictionary['mean'] =  stats.mean(data)\n",
    "data_dictionary['median'] =  stats.median(data)\n",
    "data_dictionary['mode'] =  stats.mode(data)\n",
    " \n",
    "print(data_dictionary)"
   ]
  },
  {
   "cell_type": "code",
   "execution_count": 11,
   "id": "73ad9de6",
   "metadata": {},
   "outputs": [
    {
     "name": "stdout",
     "output_type": "stream",
     "text": [
      "29\n"
     ]
    }
   ],
   "source": [
    "# geting range\n",
    "\n",
    "points = [-4, 17, 25, 19, 6, 11, 7]\n",
    "range_points = max(points) - min(points)\n",
    "print(range_points)"
   ]
  },
  {
   "cell_type": "code",
   "execution_count": null,
   "id": "d06919ad",
   "metadata": {},
   "outputs": [],
   "source": []
  }
 ],
 "metadata": {
  "kernelspec": {
   "display_name": "Python 3",
   "language": "python",
   "name": "python3"
  },
  "language_info": {
   "codemirror_mode": {
    "name": "ipython",
    "version": 3
   },
   "file_extension": ".py",
   "mimetype": "text/x-python",
   "name": "python",
   "nbconvert_exporter": "python",
   "pygments_lexer": "ipython3",
   "version": "3.8.8"
  }
 },
 "nbformat": 4,
 "nbformat_minor": 5
}
