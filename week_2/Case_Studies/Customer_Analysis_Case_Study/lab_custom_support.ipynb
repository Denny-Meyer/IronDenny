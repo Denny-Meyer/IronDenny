{
 "cells": [
  {
   "cell_type": "markdown",
   "id": "58a613a3",
   "metadata": {},
   "source": [
    "# Lab Case Study\n",
    "\n",
    "## Scenario\n",
    "\n",
    "You are working as an analyst for an auto insurance company. The company has collected some data about its customers including their demographics, education, employment, policy details, vehicle information on which insurance policy is, and claim amounts. You will help the senior management with some business questions that will help them to better understand their customers, improve their services, and improve profitability.\n",
    "\n",
    "## Business Objectives\n",
    "\n",
    "- Retain customers,\n",
    "- analyze relevant customer data,\n",
    "- develop focused customer retention programs.\n",
    "\n",
    "Based on the analysis, take targeted actions to increase profitable customer response, retention, and growth.\n",
    "\n",
    "## Activities\n",
    "\n",
    "Refer to the `Activities.md` file where you will find guidelines for some of the activities that you want to do.\n",
    "\n",
    "## Data\n",
    "\n",
    "The csv files is provided in the folder. The columns in the file are self-explanatory.\n"
   ]
  },
  {
   "cell_type": "code",
   "execution_count": 6,
   "id": "a2d55905",
   "metadata": {},
   "outputs": [],
   "source": [
    "import pandas as pd\n",
    "import numpy as np\n",
    "\n",
    "import matplotlib.pyplot as plt\n",
    "%matplotlib inline\n",
    "import seaborn as sns"
   ]
  },
  {
   "cell_type": "code",
   "execution_count": 7,
   "metadata": {},
   "outputs": [
    {
     "name": "stdout",
     "output_type": "stream",
     "text": [
      "Activities.md     \u001b[0m\u001b[01;34mData\u001b[0m/                                lab_custom_support.ipynb\n",
      "case_study.ipynb  Lab_Customer_Analysis_Case_Study.md\n"
     ]
    }
   ],
   "source": [
    "ls"
   ]
  },
  {
   "cell_type": "code",
   "execution_count": 8,
   "id": "3643d94f",
   "metadata": {},
   "outputs": [],
   "source": [
    "# load data file\n",
    "data = pd.read_csv('Data/work_file.csv')"
   ]
  },
  {
   "cell_type": "code",
   "execution_count": 9,
   "id": "b908113d",
   "metadata": {},
   "outputs": [
    {
     "data": {
      "text/html": [
       "<div>\n",
       "<style scoped>\n",
       "    .dataframe tbody tr th:only-of-type {\n",
       "        vertical-align: middle;\n",
       "    }\n",
       "\n",
       "    .dataframe tbody tr th {\n",
       "        vertical-align: top;\n",
       "    }\n",
       "\n",
       "    .dataframe thead th {\n",
       "        text-align: right;\n",
       "    }\n",
       "</style>\n",
       "<table border=\"1\" class=\"dataframe\">\n",
       "  <thead>\n",
       "    <tr style=\"text-align: right;\">\n",
       "      <th></th>\n",
       "      <th>Unnamed: 0</th>\n",
       "      <th>education</th>\n",
       "      <th>customer lifetime value</th>\n",
       "      <th>income</th>\n",
       "      <th>monthly premium auto</th>\n",
       "      <th>number of open complaints</th>\n",
       "      <th>policy type</th>\n",
       "      <th>vehicle class</th>\n",
       "      <th>total claim amount</th>\n",
       "      <th>zone</th>\n",
       "      <th>gender</th>\n",
       "    </tr>\n",
       "  </thead>\n",
       "  <tbody>\n",
       "    <tr>\n",
       "      <th>0</th>\n",
       "      <td>1</td>\n",
       "      <td>bachelor</td>\n",
       "      <td>697953.59</td>\n",
       "      <td>37835.0</td>\n",
       "      <td>94.0</td>\n",
       "      <td>0</td>\n",
       "      <td>personal auto</td>\n",
       "      <td>four-door car</td>\n",
       "      <td>1131.46</td>\n",
       "      <td>central</td>\n",
       "      <td>f</td>\n",
       "    </tr>\n",
       "    <tr>\n",
       "      <th>1</th>\n",
       "      <td>2</td>\n",
       "      <td>bachelor</td>\n",
       "      <td>1288743.17</td>\n",
       "      <td>48767.0</td>\n",
       "      <td>108.0</td>\n",
       "      <td>0</td>\n",
       "      <td>personal auto</td>\n",
       "      <td>two-door car</td>\n",
       "      <td>566.47</td>\n",
       "      <td>central</td>\n",
       "      <td>f</td>\n",
       "    </tr>\n",
       "    <tr>\n",
       "      <th>2</th>\n",
       "      <td>3</td>\n",
       "      <td>bachelor</td>\n",
       "      <td>764586.18</td>\n",
       "      <td>37835.0</td>\n",
       "      <td>106.0</td>\n",
       "      <td>0</td>\n",
       "      <td>corporate auto</td>\n",
       "      <td>suv</td>\n",
       "      <td>529.88</td>\n",
       "      <td>west region</td>\n",
       "      <td>m</td>\n",
       "    </tr>\n",
       "    <tr>\n",
       "      <th>3</th>\n",
       "      <td>4</td>\n",
       "      <td>high school or below</td>\n",
       "      <td>536307.65</td>\n",
       "      <td>36357.0</td>\n",
       "      <td>68.0</td>\n",
       "      <td>0</td>\n",
       "      <td>personal auto</td>\n",
       "      <td>four-door car</td>\n",
       "      <td>17.27</td>\n",
       "      <td>east</td>\n",
       "      <td>m</td>\n",
       "    </tr>\n",
       "    <tr>\n",
       "      <th>4</th>\n",
       "      <td>5</td>\n",
       "      <td>bachelor</td>\n",
       "      <td>825629.78</td>\n",
       "      <td>62902.0</td>\n",
       "      <td>69.0</td>\n",
       "      <td>0</td>\n",
       "      <td>personal auto</td>\n",
       "      <td>two-door car</td>\n",
       "      <td>159.38</td>\n",
       "      <td>north west</td>\n",
       "      <td>f</td>\n",
       "    </tr>\n",
       "    <tr>\n",
       "      <th>...</th>\n",
       "      <td>...</td>\n",
       "      <td>...</td>\n",
       "      <td>...</td>\n",
       "      <td>...</td>\n",
       "      <td>...</td>\n",
       "      <td>...</td>\n",
       "      <td>...</td>\n",
       "      <td>...</td>\n",
       "      <td>...</td>\n",
       "      <td>...</td>\n",
       "      <td>...</td>\n",
       "    </tr>\n",
       "    <tr>\n",
       "      <th>9006</th>\n",
       "      <td>7065</td>\n",
       "      <td>bachelor</td>\n",
       "      <td>23405.99</td>\n",
       "      <td>71941.0</td>\n",
       "      <td>73.0</td>\n",
       "      <td>0</td>\n",
       "      <td>personal auto</td>\n",
       "      <td>four-door car</td>\n",
       "      <td>198.23</td>\n",
       "      <td>west region</td>\n",
       "      <td>m</td>\n",
       "    </tr>\n",
       "    <tr>\n",
       "      <th>9007</th>\n",
       "      <td>7066</td>\n",
       "      <td>college</td>\n",
       "      <td>3096.51</td>\n",
       "      <td>21604.0</td>\n",
       "      <td>79.0</td>\n",
       "      <td>0</td>\n",
       "      <td>corporate auto</td>\n",
       "      <td>four-door car</td>\n",
       "      <td>379.20</td>\n",
       "      <td>west region</td>\n",
       "      <td>f</td>\n",
       "    </tr>\n",
       "    <tr>\n",
       "      <th>9008</th>\n",
       "      <td>7067</td>\n",
       "      <td>bachelor</td>\n",
       "      <td>8163.89</td>\n",
       "      <td>37835.0</td>\n",
       "      <td>85.0</td>\n",
       "      <td>3</td>\n",
       "      <td>corporate auto</td>\n",
       "      <td>four-door car</td>\n",
       "      <td>790.78</td>\n",
       "      <td>west region</td>\n",
       "      <td>m</td>\n",
       "    </tr>\n",
       "    <tr>\n",
       "      <th>9009</th>\n",
       "      <td>7068</td>\n",
       "      <td>college</td>\n",
       "      <td>7524.44</td>\n",
       "      <td>21941.0</td>\n",
       "      <td>96.0</td>\n",
       "      <td>0</td>\n",
       "      <td>personal auto</td>\n",
       "      <td>four-door car</td>\n",
       "      <td>691.20</td>\n",
       "      <td>west region</td>\n",
       "      <td>m</td>\n",
       "    </tr>\n",
       "    <tr>\n",
       "      <th>9010</th>\n",
       "      <td>7069</td>\n",
       "      <td>college</td>\n",
       "      <td>2611.84</td>\n",
       "      <td>37835.0</td>\n",
       "      <td>77.0</td>\n",
       "      <td>0</td>\n",
       "      <td>corporate auto</td>\n",
       "      <td>two-door car</td>\n",
       "      <td>369.60</td>\n",
       "      <td>west region</td>\n",
       "      <td>m</td>\n",
       "    </tr>\n",
       "  </tbody>\n",
       "</table>\n",
       "<p>9011 rows × 11 columns</p>\n",
       "</div>"
      ],
      "text/plain": [
       "      Unnamed: 0             education  customer lifetime value   income  \\\n",
       "0              1              bachelor                697953.59  37835.0   \n",
       "1              2              bachelor               1288743.17  48767.0   \n",
       "2              3              bachelor                764586.18  37835.0   \n",
       "3              4  high school or below                536307.65  36357.0   \n",
       "4              5              bachelor                825629.78  62902.0   \n",
       "...          ...                   ...                      ...      ...   \n",
       "9006        7065              bachelor                 23405.99  71941.0   \n",
       "9007        7066               college                  3096.51  21604.0   \n",
       "9008        7067              bachelor                  8163.89  37835.0   \n",
       "9009        7068               college                  7524.44  21941.0   \n",
       "9010        7069               college                  2611.84  37835.0   \n",
       "\n",
       "      monthly premium auto  number of open complaints     policy type  \\\n",
       "0                     94.0                          0   personal auto   \n",
       "1                    108.0                          0   personal auto   \n",
       "2                    106.0                          0  corporate auto   \n",
       "3                     68.0                          0   personal auto   \n",
       "4                     69.0                          0   personal auto   \n",
       "...                    ...                        ...             ...   \n",
       "9006                  73.0                          0   personal auto   \n",
       "9007                  79.0                          0  corporate auto   \n",
       "9008                  85.0                          3  corporate auto   \n",
       "9009                  96.0                          0   personal auto   \n",
       "9010                  77.0                          0  corporate auto   \n",
       "\n",
       "      vehicle class  total claim amount         zone gender  \n",
       "0     four-door car             1131.46      central      f  \n",
       "1      two-door car              566.47      central      f  \n",
       "2               suv              529.88  west region      m  \n",
       "3     four-door car               17.27         east      m  \n",
       "4      two-door car              159.38   north west      f  \n",
       "...             ...                 ...          ...    ...  \n",
       "9006  four-door car              198.23  west region      m  \n",
       "9007  four-door car              379.20  west region      f  \n",
       "9008  four-door car              790.78  west region      m  \n",
       "9009  four-door car              691.20  west region      m  \n",
       "9010   two-door car              369.60  west region      m  \n",
       "\n",
       "[9011 rows x 11 columns]"
      ]
     },
     "execution_count": 9,
     "metadata": {},
     "output_type": "execute_result"
    }
   ],
   "source": [
    "data.reset_index(drop=True)"
   ]
  },
  {
   "cell_type": "code",
   "execution_count": 10,
   "id": "49cf6d83",
   "metadata": {},
   "outputs": [],
   "source": [
    "data.drop(columns='Unnamed: 0', inplace=True)"
   ]
  },
  {
   "cell_type": "code",
   "execution_count": 11,
   "id": "2ce3a6ac",
   "metadata": {},
   "outputs": [
    {
     "data": {
      "text/html": [
       "<div>\n",
       "<style scoped>\n",
       "    .dataframe tbody tr th:only-of-type {\n",
       "        vertical-align: middle;\n",
       "    }\n",
       "\n",
       "    .dataframe tbody tr th {\n",
       "        vertical-align: top;\n",
       "    }\n",
       "\n",
       "    .dataframe thead th {\n",
       "        text-align: right;\n",
       "    }\n",
       "</style>\n",
       "<table border=\"1\" class=\"dataframe\">\n",
       "  <thead>\n",
       "    <tr style=\"text-align: right;\">\n",
       "      <th></th>\n",
       "      <th>education</th>\n",
       "      <th>customer lifetime value</th>\n",
       "      <th>income</th>\n",
       "      <th>monthly premium auto</th>\n",
       "      <th>number of open complaints</th>\n",
       "      <th>policy type</th>\n",
       "      <th>vehicle class</th>\n",
       "      <th>total claim amount</th>\n",
       "      <th>zone</th>\n",
       "      <th>gender</th>\n",
       "    </tr>\n",
       "  </thead>\n",
       "  <tbody>\n",
       "    <tr>\n",
       "      <th>0</th>\n",
       "      <td>bachelor</td>\n",
       "      <td>697953.59</td>\n",
       "      <td>37835.0</td>\n",
       "      <td>94.0</td>\n",
       "      <td>0</td>\n",
       "      <td>personal auto</td>\n",
       "      <td>four-door car</td>\n",
       "      <td>1131.46</td>\n",
       "      <td>central</td>\n",
       "      <td>f</td>\n",
       "    </tr>\n",
       "    <tr>\n",
       "      <th>1</th>\n",
       "      <td>bachelor</td>\n",
       "      <td>1288743.17</td>\n",
       "      <td>48767.0</td>\n",
       "      <td>108.0</td>\n",
       "      <td>0</td>\n",
       "      <td>personal auto</td>\n",
       "      <td>two-door car</td>\n",
       "      <td>566.47</td>\n",
       "      <td>central</td>\n",
       "      <td>f</td>\n",
       "    </tr>\n",
       "    <tr>\n",
       "      <th>2</th>\n",
       "      <td>bachelor</td>\n",
       "      <td>764586.18</td>\n",
       "      <td>37835.0</td>\n",
       "      <td>106.0</td>\n",
       "      <td>0</td>\n",
       "      <td>corporate auto</td>\n",
       "      <td>suv</td>\n",
       "      <td>529.88</td>\n",
       "      <td>west region</td>\n",
       "      <td>m</td>\n",
       "    </tr>\n",
       "    <tr>\n",
       "      <th>3</th>\n",
       "      <td>high school or below</td>\n",
       "      <td>536307.65</td>\n",
       "      <td>36357.0</td>\n",
       "      <td>68.0</td>\n",
       "      <td>0</td>\n",
       "      <td>personal auto</td>\n",
       "      <td>four-door car</td>\n",
       "      <td>17.27</td>\n",
       "      <td>east</td>\n",
       "      <td>m</td>\n",
       "    </tr>\n",
       "    <tr>\n",
       "      <th>4</th>\n",
       "      <td>bachelor</td>\n",
       "      <td>825629.78</td>\n",
       "      <td>62902.0</td>\n",
       "      <td>69.0</td>\n",
       "      <td>0</td>\n",
       "      <td>personal auto</td>\n",
       "      <td>two-door car</td>\n",
       "      <td>159.38</td>\n",
       "      <td>north west</td>\n",
       "      <td>f</td>\n",
       "    </tr>\n",
       "    <tr>\n",
       "      <th>...</th>\n",
       "      <td>...</td>\n",
       "      <td>...</td>\n",
       "      <td>...</td>\n",
       "      <td>...</td>\n",
       "      <td>...</td>\n",
       "      <td>...</td>\n",
       "      <td>...</td>\n",
       "      <td>...</td>\n",
       "      <td>...</td>\n",
       "      <td>...</td>\n",
       "    </tr>\n",
       "    <tr>\n",
       "      <th>9006</th>\n",
       "      <td>bachelor</td>\n",
       "      <td>23405.99</td>\n",
       "      <td>71941.0</td>\n",
       "      <td>73.0</td>\n",
       "      <td>0</td>\n",
       "      <td>personal auto</td>\n",
       "      <td>four-door car</td>\n",
       "      <td>198.23</td>\n",
       "      <td>west region</td>\n",
       "      <td>m</td>\n",
       "    </tr>\n",
       "    <tr>\n",
       "      <th>9007</th>\n",
       "      <td>college</td>\n",
       "      <td>3096.51</td>\n",
       "      <td>21604.0</td>\n",
       "      <td>79.0</td>\n",
       "      <td>0</td>\n",
       "      <td>corporate auto</td>\n",
       "      <td>four-door car</td>\n",
       "      <td>379.20</td>\n",
       "      <td>west region</td>\n",
       "      <td>f</td>\n",
       "    </tr>\n",
       "    <tr>\n",
       "      <th>9008</th>\n",
       "      <td>bachelor</td>\n",
       "      <td>8163.89</td>\n",
       "      <td>37835.0</td>\n",
       "      <td>85.0</td>\n",
       "      <td>3</td>\n",
       "      <td>corporate auto</td>\n",
       "      <td>four-door car</td>\n",
       "      <td>790.78</td>\n",
       "      <td>west region</td>\n",
       "      <td>m</td>\n",
       "    </tr>\n",
       "    <tr>\n",
       "      <th>9009</th>\n",
       "      <td>college</td>\n",
       "      <td>7524.44</td>\n",
       "      <td>21941.0</td>\n",
       "      <td>96.0</td>\n",
       "      <td>0</td>\n",
       "      <td>personal auto</td>\n",
       "      <td>four-door car</td>\n",
       "      <td>691.20</td>\n",
       "      <td>west region</td>\n",
       "      <td>m</td>\n",
       "    </tr>\n",
       "    <tr>\n",
       "      <th>9010</th>\n",
       "      <td>college</td>\n",
       "      <td>2611.84</td>\n",
       "      <td>37835.0</td>\n",
       "      <td>77.0</td>\n",
       "      <td>0</td>\n",
       "      <td>corporate auto</td>\n",
       "      <td>two-door car</td>\n",
       "      <td>369.60</td>\n",
       "      <td>west region</td>\n",
       "      <td>m</td>\n",
       "    </tr>\n",
       "  </tbody>\n",
       "</table>\n",
       "<p>9011 rows × 10 columns</p>\n",
       "</div>"
      ],
      "text/plain": [
       "                 education  customer lifetime value   income  \\\n",
       "0                 bachelor                697953.59  37835.0   \n",
       "1                 bachelor               1288743.17  48767.0   \n",
       "2                 bachelor                764586.18  37835.0   \n",
       "3     high school or below                536307.65  36357.0   \n",
       "4                 bachelor                825629.78  62902.0   \n",
       "...                    ...                      ...      ...   \n",
       "9006              bachelor                 23405.99  71941.0   \n",
       "9007               college                  3096.51  21604.0   \n",
       "9008              bachelor                  8163.89  37835.0   \n",
       "9009               college                  7524.44  21941.0   \n",
       "9010               college                  2611.84  37835.0   \n",
       "\n",
       "      monthly premium auto  number of open complaints     policy type  \\\n",
       "0                     94.0                          0   personal auto   \n",
       "1                    108.0                          0   personal auto   \n",
       "2                    106.0                          0  corporate auto   \n",
       "3                     68.0                          0   personal auto   \n",
       "4                     69.0                          0   personal auto   \n",
       "...                    ...                        ...             ...   \n",
       "9006                  73.0                          0   personal auto   \n",
       "9007                  79.0                          0  corporate auto   \n",
       "9008                  85.0                          3  corporate auto   \n",
       "9009                  96.0                          0   personal auto   \n",
       "9010                  77.0                          0  corporate auto   \n",
       "\n",
       "      vehicle class  total claim amount         zone gender  \n",
       "0     four-door car             1131.46      central      f  \n",
       "1      two-door car              566.47      central      f  \n",
       "2               suv              529.88  west region      m  \n",
       "3     four-door car               17.27         east      m  \n",
       "4      two-door car              159.38   north west      f  \n",
       "...             ...                 ...          ...    ...  \n",
       "9006  four-door car              198.23  west region      m  \n",
       "9007  four-door car              379.20  west region      f  \n",
       "9008  four-door car              790.78  west region      m  \n",
       "9009  four-door car              691.20  west region      m  \n",
       "9010   two-door car              369.60  west region      m  \n",
       "\n",
       "[9011 rows x 10 columns]"
      ]
     },
     "execution_count": 11,
     "metadata": {},
     "output_type": "execute_result"
    }
   ],
   "source": [
    "data"
   ]
  },
  {
   "cell_type": "markdown",
   "id": "ae9adb70",
   "metadata": {},
   "source": [
    "#### playing with analyze\n"
   ]
  },
  {
   "cell_type": "code",
   "execution_count": 12,
   "id": "d86d7c74",
   "metadata": {},
   "outputs": [
    {
     "data": {
      "text/plain": [
       "array([[<AxesSubplot:title={'center':'customer lifetime value'}>,\n",
       "        <AxesSubplot:title={'center':'income'}>],\n",
       "       [<AxesSubplot:title={'center':'monthly premium auto'}>,\n",
       "        <AxesSubplot:title={'center':'number of open complaints'}>],\n",
       "       [<AxesSubplot:title={'center':'total claim amount'}>,\n",
       "        <AxesSubplot:>]], dtype=object)"
      ]
     },
     "execution_count": 12,
     "metadata": {},
     "output_type": "execute_result"
    },
    {
     "data": {
      "image/png": "[encoded data removed]",
      "text/plain": [
       "<Figure size 432x288 with 6 Axes>"
      ]
     },
     "metadata": {
      "needs_background": "light"
     },
     "output_type": "display_data"
    }
   ],
   "source": [
    "num=list(data.describe())\n",
    "#for i in num:\n",
    "#    data[i].hist()\n",
    "data[num].hist()"
   ]
  },
  {
   "cell_type": "markdown",
   "id": "12287f88",
   "metadata": {},
   "source": [
    "data['income'].hist()"
   ]
  },
  {
   "cell_type": "markdown",
   "id": "b4baeb4f",
   "metadata": {},
   "source": [
    "data['total claim amount'].hist()"
   ]
  },
  {
   "cell_type": "markdown",
   "id": "91471ac1",
   "metadata": {},
   "source": [
    "data['customer lifetime value'].hist()"
   ]
  },
  {
   "cell_type": "markdown",
   "id": "52f847c7",
   "metadata": {},
   "source": [
    "### Market"
   ]
  },
  {
   "cell_type": "markdown",
   "id": "421b2140",
   "metadata": {},
   "source": [
    "income_data = data['income']"
   ]
  },
  {
   "cell_type": "markdown",
   "id": "748b1672",
   "metadata": {},
   "source": []
  },
  {
   "cell_type": "markdown",
   "id": "094a9a47",
   "metadata": {},
   "source": [
    "#df = sns.load_dataset()\n",
    "#df = sns.load_dataset('data')\n",
    "\n",
    "df = data[['income', 'total claim amount']]\n",
    "\n",
    "sns.pairplot(data)\n",
    "#sns.pairplot(data)\n"
   ]
  },
  {
   "cell_type": "markdown",
   "id": "455ee930",
   "metadata": {},
   "source": [
    "df = sns.load_dataset('titanic')"
   ]
  },
  {
   "cell_type": "markdown",
   "id": "ffeb7937",
   "metadata": {},
   "source": [
    "survived = df['alive']\n",
    "survived = survived.value_counts()"
   ]
  },
  {
   "cell_type": "markdown",
   "id": "105f55be",
   "metadata": {},
   "source": []
  },
  {
   "cell_type": "markdown",
   "id": "4d4e1de9",
   "metadata": {},
   "source": []
  },
  {
   "cell_type": "markdown",
   "id": "99993fc3",
   "metadata": {},
   "source": []
  },
  {
   "cell_type": "markdown",
   "id": "cc578eb1",
   "metadata": {},
   "source": [
    "#fig, ax = plt.subplots(figsize = (6,6))"
   ]
  },
  {
   "cell_type": "markdown",
   "id": "7ec8fb24",
   "metadata": {
    "scrolled": true
   },
   "source": [
    "class_surv =df.groupby(['class', 'alive'])['survived'].count()\n",
    "class_surv"
   ]
  },
  {
   "cell_type": "markdown",
   "id": "7bc2a084",
   "metadata": {},
   "source": [
    "df.corr()"
   ]
  },
  {
   "cell_type": "markdown",
   "id": "acd4d5d9",
   "metadata": {},
   "source": [
    "sns.heatmap(df.corr())"
   ]
  },
  {
   "cell_type": "markdown",
   "id": "4f05cdd2",
   "metadata": {},
   "source": [
    "df.hist()"
   ]
  },
  {
   "cell_type": "code",
   "execution_count": null,
   "id": "341d3237",
   "metadata": {},
   "outputs": [],
   "source": []
  },
  {
   "cell_type": "code",
   "execution_count": 13,
   "id": "08266cc2",
   "metadata": {},
   "outputs": [
    {
     "data": {
      "text/plain": [
       "<AxesSubplot:>"
      ]
     },
     "execution_count": 13,
     "metadata": {},
     "output_type": "execute_result"
    },
    {
     "data": {
      "image/png": "[encoded data removed]",
      "text/plain": [
       "<Figure size 432x288 with 2 Axes>"
      ]
     },
     "metadata": {
      "needs_background": "light"
     },
     "output_type": "display_data"
    }
   ],
   "source": [
    "sns.heatmap(data.corr(), annot=True, cmap='seismic', center=0)"
   ]
  },
  {
   "cell_type": "code",
   "execution_count": 14,
   "id": "4e11f5e0",
   "metadata": {},
   "outputs": [
    {
     "data": {
      "text/plain": [
       "Index(['education', 'customer lifetime value', 'income',\n",
       "       'monthly premium auto', 'number of open complaints', 'policy type',\n",
       "       'vehicle class', 'total claim amount', 'zone', 'gender'],\n",
       "      dtype='object')"
      ]
     },
     "execution_count": 14,
     "metadata": {},
     "output_type": "execute_result"
    }
   ],
   "source": [
    "data.columns"
   ]
  },
  {
   "cell_type": "code",
   "execution_count": 15,
   "id": "989c4f99",
   "metadata": {},
   "outputs": [
    {
     "data": {
      "text/html": [
       "<div>\n",
       "<style scoped>\n",
       "    .dataframe tbody tr th:only-of-type {\n",
       "        vertical-align: middle;\n",
       "    }\n",
       "\n",
       "    .dataframe tbody tr th {\n",
       "        vertical-align: top;\n",
       "    }\n",
       "\n",
       "    .dataframe thead th {\n",
       "        text-align: right;\n",
       "    }\n",
       "</style>\n",
       "<table border=\"1\" class=\"dataframe\">\n",
       "  <thead>\n",
       "    <tr style=\"text-align: right;\">\n",
       "      <th></th>\n",
       "      <th>income</th>\n",
       "      <th>total claim amount</th>\n",
       "      <th>gender</th>\n",
       "      <th>count</th>\n",
       "    </tr>\n",
       "  </thead>\n",
       "  <tbody>\n",
       "    <tr>\n",
       "      <th>0</th>\n",
       "      <td>10037.0</td>\n",
       "      <td>292.18</td>\n",
       "      <td>m</td>\n",
       "      <td>1</td>\n",
       "    </tr>\n",
       "    <tr>\n",
       "      <th>1</th>\n",
       "      <td>10074.0</td>\n",
       "      <td>109.00</td>\n",
       "      <td>m</td>\n",
       "      <td>1</td>\n",
       "    </tr>\n",
       "    <tr>\n",
       "      <th>2</th>\n",
       "      <td>10097.0</td>\n",
       "      <td>218.64</td>\n",
       "      <td>f</td>\n",
       "      <td>1</td>\n",
       "    </tr>\n",
       "    <tr>\n",
       "      <th>3</th>\n",
       "      <td>10147.0</td>\n",
       "      <td>459.28</td>\n",
       "      <td>m</td>\n",
       "      <td>1</td>\n",
       "    </tr>\n",
       "    <tr>\n",
       "      <th>4</th>\n",
       "      <td>10180.0</td>\n",
       "      <td>455.65</td>\n",
       "      <td>f</td>\n",
       "      <td>1</td>\n",
       "    </tr>\n",
       "    <tr>\n",
       "      <th>...</th>\n",
       "      <td>...</td>\n",
       "      <td>...</td>\n",
       "      <td>...</td>\n",
       "      <td>...</td>\n",
       "    </tr>\n",
       "    <tr>\n",
       "      <th>6961</th>\n",
       "      <td>99875.0</td>\n",
       "      <td>114.97</td>\n",
       "      <td>f</td>\n",
       "      <td>1</td>\n",
       "    </tr>\n",
       "    <tr>\n",
       "      <th>6962</th>\n",
       "      <td>99934.0</td>\n",
       "      <td>460.32</td>\n",
       "      <td>m</td>\n",
       "      <td>1</td>\n",
       "    </tr>\n",
       "    <tr>\n",
       "      <th>6963</th>\n",
       "      <td>99960.0</td>\n",
       "      <td>364.80</td>\n",
       "      <td>m</td>\n",
       "      <td>1</td>\n",
       "    </tr>\n",
       "    <tr>\n",
       "      <th>6964</th>\n",
       "      <td>99961.0</td>\n",
       "      <td>316.80</td>\n",
       "      <td>f</td>\n",
       "      <td>1</td>\n",
       "    </tr>\n",
       "    <tr>\n",
       "      <th>6965</th>\n",
       "      <td>99981.0</td>\n",
       "      <td>204.87</td>\n",
       "      <td>m</td>\n",
       "      <td>1</td>\n",
       "    </tr>\n",
       "  </tbody>\n",
       "</table>\n",
       "<p>6966 rows × 4 columns</p>\n",
       "</div>"
      ],
      "text/plain": [
       "       income  total claim amount gender  count\n",
       "0     10037.0              292.18      m      1\n",
       "1     10074.0              109.00      m      1\n",
       "2     10097.0              218.64      f      1\n",
       "3     10147.0              459.28      m      1\n",
       "4     10180.0              455.65      f      1\n",
       "...       ...                 ...    ...    ...\n",
       "6961  99875.0              114.97      f      1\n",
       "6962  99934.0              460.32      m      1\n",
       "6963  99960.0              364.80      m      1\n",
       "6964  99961.0              316.80      f      1\n",
       "6965  99981.0              204.87      m      1\n",
       "\n",
       "[6966 rows x 4 columns]"
      ]
     },
     "execution_count": 15,
     "metadata": {},
     "output_type": "execute_result"
    }
   ],
   "source": [
    "d_1 = data.groupby(['income', 'total claim amount', 'gender'])['gender'].count().rename('count').reset_index()\n",
    "\n",
    "d_1"
   ]
  },
  {
   "cell_type": "code",
   "execution_count": 16,
   "id": "7ba70d88",
   "metadata": {},
   "outputs": [],
   "source": [
    "sns.catplot(x='income', y='total claim amount', hue='count', data=d_1)"
   ]
  },
  {
   "cell_type": "code",
   "execution_count": null,
   "id": "1fade3d5",
   "metadata": {},
   "outputs": [],
   "source": [
    "sns.set_palette('RdYlGn')\n",
    "palette_alive = {\"yes\": \"C5\", \"no\": \"C0\"}"
   ]
  },
  {
   "cell_type": "code",
   "execution_count": null,
   "id": "04a103a4",
   "metadata": {},
   "outputs": [],
   "source": [
    "fig, ax = plt.subplots(figsize=(12,4))\n",
    "ax.set_title('test', size='25', fontweight='bold')\n"
   ]
  },
  {
   "cell_type": "code",
   "execution_count": null,
   "id": "771246ce",
   "metadata": {},
   "outputs": [],
   "source": [
    "sns.barplot(x = d_1['income'],y = d_1['total claim amount'], hue = d_1['income'])#, ax = ax, palette=palette_alive)"
   ]
  },
  {
   "cell_type": "code",
   "execution_count": null,
   "id": "6d22dbbf",
   "metadata": {},
   "outputs": [],
   "source": [
    "plt.show()"
   ]
  },
  {
   "cell_type": "code",
   "execution_count": null,
   "id": "8831b5a3",
   "metadata": {},
   "outputs": [],
   "source": [
    "data[['income', 'total claim amount']].corr().plot()"
   ]
  },
  {
   "cell_type": "code",
   "execution_count": null,
   "id": "3db86493",
   "metadata": {},
   "outputs": [],
   "source": [
    "x=data['income'].corr()\n",
    "y=data['monthly premium auto']\n",
    "plt.scatter(x,y)"
   ]
  },
  {
   "cell_type": "code",
   "execution_count": null,
   "id": "916233bb",
   "metadata": {},
   "outputs": [],
   "source": [
    "data[['income', 'customer lifetime value']].hist()"
   ]
  }
 ],
 "metadata": {
  "interpreter": {
   "hash": "2d2998af58360198af4f829ea7a2e55473ee9c83a4b3343387da68b4c68e0d61"
  },
  "kernelspec": {
   "display_name": "Python 3.9.6 64-bit ('DA_Enviroment': conda)",
   "name": "python3"
  },
  "language_info": {
   "codemirror_mode": {
    "name": "ipython",
    "version": 3
   },
   "file_extension": ".py",
   "mimetype": "text/x-python",
   "name": "python",
   "nbconvert_exporter": "python",
   "pygments_lexer": "ipython3",
   "version": "3.9.6"
  }
 },
 "nbformat": 4,
 "nbformat_minor": 5
}
